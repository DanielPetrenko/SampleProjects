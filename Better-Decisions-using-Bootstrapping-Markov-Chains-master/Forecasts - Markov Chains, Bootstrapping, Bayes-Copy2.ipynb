{
 "cells": [
  {
   "cell_type": "markdown",
   "metadata": {},
   "source": [
    "## How to Produce Accurate Forecasts: Utilizing Markov Chains &  Bootstrapping"
   ]
  },
  {
   "cell_type": "markdown",
   "metadata": {},
   "source": [
    "<br>\n",
    "<img src=\"images/dashboard.jpg\" alt=\"dashboard\" style=\"width: 600px;\"/>\n",
    "<br>\n",
    "\n",
    "## Guide Summary\n",
    "\n",
    "Big data challanges are well cited and have become a unifying source of humor in Data Science. Addressing these challanges, this guide explains how to apply predictive theory based on historical data and demonstrates sampling methods that deliver more valuable forecasting insights with less effort. More precisely, this guide applies probability concepts combining two specific theoretical concepts - (time) homogeneous Markov chain with Bayesian inference - and applies these theories with bootstrapping sampling techniques. \n",
    "\n",
    "This idea of combining Markov Chain and Bayes Theorem with bootstrapping to improve forecasting accuracy with big data was inspired by Claude E. Shannon's landmark paper, *A Mathematical Theory of Communication* (1948), where Shannon uses Markov chains to generate similar-looking sequence. By assuming a finite set of possible outcomes, Shannon generates more precise predictions. \n",
    "\n",
    "The grocery industry and consumer markets - where big data abounds - have inherent contraints that can be mitigated in the Demand Forecasting & Planning process through stronger application of these frameworks. \n",
    "\n",
    "## My Background \n",
    "\n",
    "I'm a Certified Professional Forecaster with [IBF](https://ibf.org/) who's worked in the grocery industry for Europe's largest discounter. I'm currently pursuing a Graduate Certificate in Data Science at the University of Maryland, College Park, with an eye to applying Machine Learning techniques to improve forecasting models and to better harness the power of big data."
   ]
  },
  {
   "cell_type": "markdown",
   "metadata": {},
   "source": [
    "## Learning Objectives\n",
    " \n",
    "- Apply bootstrapping code to a large dataset considering uncertainty\n",
    "- Understand theory behind Markov chains in generating persuasive-looking samples\n",
    "- Apply Bayesian inference to efficiently refine perception of a population     \n",
    "- Walk away a better forecaster making better decisions "
   ]
  },
  {
   "cell_type": "markdown",
   "metadata": {},
   "source": [
    "# Data Source - Kaggle Grocery Forecasting Challange - store sales data\n",
    "\n",
    "This guide walks through encoding the underlying distribution of a 5GB Kaggle [dataset](https://www.kaggle.com/c/favorita-grocery-sales-forecasting) and decoding it's feature's parameters into statistical expectations. \n",
    "\n",
    "**Model Sensitivity: Data Context**  \n",
    "Like many other industries (e.g. financial, airline), consumer packaged goods (CPG) face challanges in implementing data science solutions. B2C oriented organizations are working to keep up with rapid data proliferation while keeping down costs to meet customer expectations. Forecasting groceries - particularly fresh items - is particularly critical to keeping costs down and maximizing customer delight with the freshest possible product in an extremely competitive market.\n",
    "\n",
    "<img src=\"images/amazongo.jpg\" alt=\"cradle\" align=\"right\" style=\"width: 400px; margin: 10px 10px;\"/>\n",
    "\n",
    "This guide's dataset examplifies some of these challanges. The sales dataset incorporates the human factor (e.g. the customer's willingness to pay) subject to contraints (e.g. market cap, logistics limitations) and data limitations (e.g. input error) that other industries face in data science, forecasting and planning. \n",
    "\n",
    "**Special Considerations: Missing Data, Promotions, Constraints**  \n",
    "While probably too nuanced for most audiences, this dataset features missing and unlabeled data. Competition's forecast score is evaluated on accuracy against sales (data not provided) over the period of the two weeks that follows immidiately after test data and features new product launches. Parameters are described on Kaggle. \n",
    "\n",
    "**Methods: bootstrapping**  \n",
    "I'll first point to some helpful resources in making sense of the data and underlying process using Nate Silver's framework outlined in The Signal and the Noise. Then, I'll walk through a reduciability technique efficiently generating inputs feasible for prediction models.  "
   ]
  },
  {
   "cell_type": "markdown",
   "metadata": {},
   "source": [
    "## Forecasting 101\n",
    "\n",
    "Isaac Newton, \"To explain all nature is too difficult a task for any one man or even for any one age. 'Tis much better to do a little with certainty, and leave the rest for others that come after you, than to explain all things.\"\n",
    "\n",
    "<br>  \n",
    "<img src=\"images/newtons_cradle.jpg\" alt=\"cradle\" style=\"width: 700px;\"/>\n",
    "<br>  \n",
    "\n",
    "\n",
    "\n",
    "Make assumptions clear because they matter. Here's an example:\n",
    "\n",
    "> Lorenz and his team were working to develop a weather forecasting program on an\n",
    "> early computer known as a Royal McBee LGP-30. 21 They thought they were getting \n",
    "> somewhere until the computer started spitting out erratic results. They began with \n",
    "> what they thought was exactly the same data and ran what they thought was exactly \n",
    "> the same code—but the program would forecast clear skies over Kansas in one run, \n",
    "> and a thunderstorm in the next.\n",
    "> \n",
    "> After spending weeks double-checking their hardware and trying to debug their\n",
    "> program, Lorenz and his team eventually discovered that their data wasn’t exactly the\n",
    "> same: one of their technicians had truncated it in the third decimal place. Instead of\n",
    "> having the barometric pressure in one corner of their grid read 29.5168, for example, it\n",
    "> might instead read 29.517. Surely this couldn’t make that much difference?\n",
    "> \n",
    "> Lorenz realized that it could. ...\n",
    "> \n",
    "> (Silver, The Signal and the Noise (Chapter 4))\n",
    "\n",
    "____________"
   ]
  },
  {
   "cell_type": "markdown",
   "metadata": {},
   "source": [
    "**Resources**     \n",
    "\n",
    "I highly reccomend \"The Signal and the Noise\" - by Nate Silver, the guy that's made a name for himself in Data Science for making predictions of U.S. Presidential elections for a decade - as a fun text to make forecasting intuitive. I'll also also supplement with specific examples from \"Probabilistic Graphical Models\".   \n",
    "- [The Signal and the Noise: Why Most Predictions Fail – but Some Don't](https://www.amazon.com/Signal-Noise-Predictions-Silver-Hardcover/dp/B00BR9TGTE/ref=pd_lpo_sbs_14_img_1?_encoding=UTF8&psc=1&refRID=CFEFS3JBRZEE5CZ8835Z), Nate Silver   \n",
    "- [Fundamentals of Demand Planning and Forecasting](https://ibf.org/books.cfm?fuseaction=bookdetail&bkID=110)\n",
    "- [Probabilistic Graphical Models](https://www.amazon.com/Probabilistic-Graphical-Models-Principles-Computation/dp/0262013193/ref=sr_1_1?s=books&ie=UTF8&qid=1517022502&sr=1-1&keywords=Probabilistic+Graphical+Models)  \n",
    "\n",
    "Python techniques and further theoretical background papers are included at the <a href='#Start_Here'>end</a>.    "
   ]
  },
  {
   "cell_type": "markdown",
   "metadata": {},
   "source": [
    "## Markov Chain Theory and Motivation\n",
    "[Andrey Andreyevych Markov](https://en.wikipedia.org/wiki/Andrey_Markov) was a 19th century Russian mathematician renowned for development of the [Markov Chain](https://en.wikipedia.org/wiki/Markov_chain) – a stochastic process that algorithmically produces probable states based on data from fixed states in the past.\n",
    "\n",
    "Time homogeneous Markov Chains predict the probability of a current state going to a different fixed state (itself or another state) with associated transition probabilities. These probabilities often are presented in transition matrices.\n"
   ]
  },
  {
   "cell_type": "markdown",
   "metadata": {},
   "source": [
    "<img src=\"images/AAMarkov.jpg\" alt=\"AAMarkov.jpg\" style=\"width: 250px;\"/>\n",
    "\n",
    "### <center> Andrey Markov </center>\n",
    "<center> (1856 – 1922) </center>\n",
    "\n",
    "### Markov Chains\n",
    "\n",
    "> A. A. Markov defined the simple chain as “an infinite sequence\n",
    "> x1, x2, . . . , xk, xk+1, . . . , of variables connected in such a way that xk+1 for any k is independent\n",
    "> of x1, x2, . . . , xk−1, in case xk is known” [15]. Markov called the chain homogeneous if the\n",
    "> conditional distributions of xk+1 given xk were independent of k. He also considered complex\n",
    "> chains in which “every number is directly connected not with single but with several preceding\n",
    "> numbers” [17].\n",
    "> ([THE LIFE AND WORK OF A. A. MARKOV](http://www.meyn.ece.ufl.edu/archive/spm_files/Markov-Work-and-life.pdf))\n",
    "\n",
    "Markov chain algorithms are used to compare states independent of eachother. The time homogenous Markov chains assume independence to generate states which can transfer according to defined transition matrices.     \n",
    "- [A Brief Introduction to Markov Chains](https://theclevermachine.wordpress.com/tag/time-homogeneous-markov-chain/)\n",
    "\n",
    "[Redulfo Metulini](https://www.slideshare.net/rmetulini/statistics-lab-talk-5-30338838) outlines the Markov Chain Motivation well:\n",
    "<img src=\"images/Metulini1.jpg\" alt=\"Metulini\" style=\"width: 550px;\"/> \n",
    "<img src=\"images/Metulini2.jpg\" alt=\"Metulini\" style=\"width: 550px;\"/> \n",
    "<img src=\"images/Metulini3.jpg\" alt=\"Metulini\" style=\"width: 550px;\"/> \n",
    "<img src=\"images/Metulini4.jpg\" alt=\"Metulini\" style=\"width: 550px;\"/> \n",
    "<img src=\"images/Metulini5.jpg\" alt=\"Metulini\" style=\"width: 550px;\"/> \n",
    "<img src=\"images/Metulini6.jpg\" alt=\"Metulini\" style=\"width: 550px;\"/> \n",
    "\n",
    "So for grocery forecasting utilizing the Kaggle data, we have two primary fixed states: (1) sales data for when items were not on promotion and (2) sales data for when items were on promotion. Applying Markhov Chain theory – with a little help from a technique called “bootstrapping,” we can predict future sales based on data samples from previous fixed states.\n",
    "\n",
    "Additional helpful guides: \n",
    "- [Markov Chains: visual representation](http://setosa.io/blog/2014/07/26/markov-chains/index.html)\n",
    "- [Markov Chains: The Imitation Game](http://www.cyber-omelette.com/2017/01/markov.html) (adapted code below)\n",
    "\n",
    "We apply a sample Markov chain algorithm on a string to make the output results more intuitive to interpret. Execute the code below a few times to see the results."
   ]
  },
  {
   "cell_type": "code",
   "execution_count": 1,
   "metadata": {
    "collapsed": true
   },
   "outputs": [],
   "source": [
    "#import string\n",
    "import numpy as np\n",
    "import pandas as pd \n",
    "import csv\n",
    "import sys, os, random \n",
    "import matplotlib.pyplot as plt\n",
    "\n",
    "from sklearn.utils import resample\n",
    "from itertools import compress\n",
    "\n",
    "import re, string\n",
    "from collections import Counter\n",
    "import datetime as date"
   ]
  },
  {
   "cell_type": "code",
   "execution_count": 2,
   "metadata": {
    "collapsed": true
   },
   "outputs": [],
   "source": [
    "def build_chain(text, chain = {}):\n",
    "    words = text.split(' ')\n",
    "    index = 1\n",
    "    for word in words[index:]:\n",
    "        key = words[index - 1]\n",
    "        if key in chain:\n",
    "            chain[key].append(word)\n",
    "        else:\n",
    "            chain[key] = [word]\n",
    "        index += 1\n",
    "    \n",
    "    return chain\n",
    "\n",
    "text = '''Now we can generate our Markov Chain. This will take the form of a dictionary, with the key as a single word, and the value as a list of all subsequent words.'''\n",
    "text = ''.join([s for s in text if s not in string.punctuation]).lower()\n",
    "chain_d = build_chain(text)\n",
    "\n",
    "def generate_message(chain):\n",
    "    count = len(chain.keys()) -5\n",
    "    word1 = random.choice(list(chain.keys()))\n",
    "    message = word1\n",
    "\n",
    "    while len(message.split(' ')) < count:\n",
    "        word2 = random.choice(chain[word1])\n",
    "        word1 = word2\n",
    "        message += ' ' + word2\n",
    "    \n",
    "    return message\n",
    "\n",
    "def gen_message(chain):\n",
    "    while True:\n",
    "        try:\n",
    "            return get_text(generate_message(chain))\n",
    "        except:    \n",
    "            pass \n",
    "\n",
    "############\n",
    "\n",
    "#from itertools docs\n",
    "#https://docs.python.org/release/2.3.5/lib/itertools-example.html\n",
    "from itertools import islice\n",
    "def window(seq, n=2):\n",
    "    \"Returns a sliding window (of width n) over data from the iterable\"\n",
    "    \"   s -> (s0,s1,...s[n-1]), (s1,s2,...,sn), ...                   \"\n",
    "    it = iter(seq)\n",
    "    result = tuple(islice(it, n))\n",
    "    if len(result) == n:\n",
    "        yield result    \n",
    "    for elem in it:\n",
    "        result = result[1:] + (elem,)\n",
    "        yield result\n",
    "\n",
    "def get_text(text): return random.choice([\" \".join(x) for x in window(text.split(), 5)])"
   ]
  },
  {
   "cell_type": "code",
   "execution_count": 3,
   "metadata": {},
   "outputs": [
    {
     "name": "stdout",
     "output_type": "stream",
     "text": [
      "as a single word and\n",
      "the form of a dictionary\n"
     ]
    }
   ],
   "source": [
    "print(gen_message(chain_d))\n",
    "print(get_text(text))"
   ]
  },
  {
   "cell_type": "markdown",
   "metadata": {},
   "source": [
    "## Transitions\n",
    "\n",
    "### get transition probability of words"
   ]
  },
  {
   "cell_type": "code",
   "execution_count": 4,
   "metadata": {
    "collapsed": true
   },
   "outputs": [],
   "source": [
    "import re\n",
    "from collections import Counter\n",
    "def words(text): return re.findall(r'\\w+', text.lower())\n",
    "\n",
    "def P_A(word, text):\n",
    "    'P of word occuring in text'\n",
    "    WORDS = Counter(words(text))\n",
    "    N = sum(WORDS.values())\n",
    "    return WORDS[word] / N\n",
    "\n",
    "def P_B(word1, word2):\n",
    "    'P of word2 being the 1st word after word1'\n",
    "    WORDS = Counter(chain_d[word1])\n",
    "    N = sum(WORDS.values())\n",
    "    return WORDS[word2] / N\n",
    "\n",
    "def P(word1, word2):\n",
    "    'P(A) * P(B|A)'\n",
    "    pa = P_A(word2, text)\n",
    "    pb = P_B(word1, word2)\n",
    "    return pa*pb"
   ]
  },
  {
   "cell_type": "code",
   "execution_count": 5,
   "metadata": {},
   "outputs": [
    {
     "name": "stdout",
     "output_type": "stream",
     "text": [
      "0.03125 0.3333333333333333\n"
     ]
    }
   ],
   "source": [
    "word1, word2 = 'the', 'key'\n",
    "#P(word1, word2)\n",
    "print(P_A(word2, text),\n",
    "      P_B(word1, word2))"
   ]
  },
  {
   "cell_type": "markdown",
   "metadata": {},
   "source": [
    "#### Make a transition array "
   ]
  },
  {
   "cell_type": "code",
   "execution_count": 6,
   "metadata": {},
   "outputs": [
    {
     "name": "stdout",
     "output_type": "stream",
     "text": [
      "fake [0.09375, 0.010416666666666666, 0.0625, 0.09375] 5.72204589844e-06\n",
      "true [0.03125, 0.09375, 0.010416666666666666, 0.0625] 1.90734863281e-06\n"
     ]
    }
   ],
   "source": [
    "def get_transition_matrix(message, chain_d, n=2):    \n",
    "    return [P(w[0], w[1]) for w in window(message.split(), n)]\n",
    "\n",
    "fake_message = gen_message(chain_d)\n",
    "true_message = get_text(text)\n",
    "\n",
    "p_fake = get_transition_matrix(fake_message, chain_d, n=2)\n",
    "p_true = get_transition_matrix(true_message, chain_d, n=2)\n",
    "\n",
    "print('fake', p_fake, np.prod(p_fake))\n",
    "print('true', p_true, np.prod(p_true))"
   ]
  },
  {
   "cell_type": "markdown",
   "metadata": {},
   "source": [
    "<img src=\"images/blastoff.jpg\" alt=\"bayes\" style=\"width: 800px;\"/>\n",
    "\n",
    "##  <center> Bootstrapping </center>"
   ]
  },
  {
   "cell_type": "markdown",
   "metadata": {},
   "source": [
    "So what is bootstrapping? Bootstrapping is a sampling technique used to generate additional training data when you don’t have enough labeled data. Bootstrapping effectively shuffles around existing data to create subsets of randomly generated samples. \n",
    "\n",
    "Like the finite-state Markov technique, bootstrapping can be used to generate sample data. Larger random samples help bootstrapping estimate sales predictions. \n",
    "\n",
    "#### Machine Learning and Data Mining: 14 Evaluation and Credibility\n",
    "https://www.slideshare.net/pierluca.lanzi/machine-learning-and-data-mining-14-evaluation-and-credibility"
   ]
  },
  {
   "cell_type": "markdown",
   "metadata": {},
   "source": [
    "<img src=\"images/nofreelunch1.jpg\" alt=\"bayes\" align=\"left\" style=\"width: 700px;\"/>"
   ]
  },
  {
   "cell_type": "markdown",
   "metadata": {},
   "source": [
    "<img src=\"images/nofreelunch2.jpg\" alt=\"bayes\" align=\"left\" style=\"width: 700px;\"/> \n",
    "<img src=\"images/doyoufeelthat.gif\" alt=\"bayes\" align=\"center\" style=\"width: 250px;\"/>"
   ]
  },
  {
   "cell_type": "markdown",
   "metadata": {},
   "source": [
    "<img src=\"images/nofreelunch3.jpg\" alt=\"bayes\" align=\"left\" style=\"width: 700px;\"/> \n",
    "<img src=\"images/redmirrorjurassicpark1.gif\" alt=\"bayes\" align=\"center\" style=\"width: 250px;\"/>"
   ]
  },
  {
   "cell_type": "markdown",
   "metadata": {},
   "source": [
    "### Here’s how you apply bootstrapping to the Kaggle data."
   ]
  },
  {
   "cell_type": "markdown",
   "metadata": {},
   "source": [
    "#### get N random lines from file and store them in a dictionary"
   ]
  },
  {
   "cell_type": "code",
   "execution_count": 7,
   "metadata": {
    "collapsed": true
   },
   "outputs": [],
   "source": [
    "def get_fname(\n",
    "    file_name = 'train2.csv',\n",
    "    raw_data_directory = 'raw_data/'\n",
    "):\n",
    "    return raw_data_directory + file_name\n",
    "\n",
    "def get_random_line(\n",
    "    file_name = get_fname()\n",
    "):\n",
    "    total_bytes = os.stat(file_name).st_size \n",
    "    random_point = random.randint(total_bytes/2, total_bytes) #last half of the file\n",
    "    file = open(file_name)\n",
    "    file.seek(random_point)\n",
    "    file.readline() # skip this line to clear the partial line\n",
    "    yield file.readline()\n",
    "\n",
    "def get_header(\n",
    "    file_name = get_fname()\n",
    "):\n",
    "    file = open(file_name)\n",
    "    return file.readline()\n",
    "\n",
    "def get_lines_dict(\n",
    "    need_lines = 10, \n",
    "    file = get_fname()\n",
    "):\n",
    "    \"\"\"\n",
    "    define count of lines desired \n",
    "    create a dictionary of lines (set of lines)\n",
    "    put randomly generated lines into dictionary \n",
    "\n",
    "    count the number of entries in dictionary\n",
    "    read-in lines to the dictionary until dict contains number of desired lines \n",
    "    \"\"\"\n",
    "    line_generator = get_random_line(file)\n",
    "\n",
    "    d = set()\n",
    "    while True:\n",
    "        file = get_fname()\n",
    "        line_generator = get_random_line(file)\n",
    "        for line in line_generator:\n",
    "            if line_condition(line):\n",
    "                d.add(line)\n",
    "            if len(d) < need_lines:\n",
    "                continue\n",
    "            else:\n",
    "                return d \n",
    "\n",
    "def line_condition(line): return line.split(',')[4]"
   ]
  },
  {
   "cell_type": "markdown",
   "metadata": {},
   "source": [
    "#### test output"
   ]
  },
  {
   "cell_type": "code",
   "execution_count": 8,
   "metadata": {},
   "outputs": [
    {
     "name": "stdout",
     "output_type": "stream",
     "text": [
      "id,date,store_nbr,item_nbr,unit_sales,onpromotion\n",
      "\n"
     ]
    },
    {
     "data": {
      "text/plain": [
       "{'82939558,2016-06-23,17,1456917,3.0,False\\n',\n",
       " '87231633,2016-08-06,37,1473511,7.065,False\\n',\n",
       " '91188141,2016-09-16,49,1464027,46.0,False\\n',\n",
       " '92422551,2016-09-29,50,315322,10.0,False\\n',\n",
       " '95776502,2016-11-03,13,1457217,4.0,False\\n'}"
      ]
     },
     "execution_count": 8,
     "metadata": {},
     "output_type": "execute_result"
    }
   ],
   "source": [
    "print(get_header())\n",
    "lines = get_lines_dict(5)\n",
    "lines"
   ]
  },
  {
   "cell_type": "markdown",
   "metadata": {},
   "source": [
    "###  Population sample\n",
    "#### use regular expressions to extract sales information; convert text to a float representing a population sample"
   ]
  },
  {
   "cell_type": "code",
   "execution_count": 9,
   "metadata": {
    "collapsed": true
   },
   "outputs": [],
   "source": [
    "#Good reference:\n",
    "#Artificial Intelligence: A Modern Approach (3rd Edition)\n",
    "#Chapter 14.1, REPRESENTING KNOWLEDGE IN AN UNCERTAIN DOMAIN\n",
    "\n",
    "def get_info(lines): \n",
    "    sales_v = []\n",
    "    onpromotion_v = []\n",
    "    item_nbr_v = []\n",
    "    date_v = []\n",
    "    while lines: \n",
    "        sale_id,sale_date,store_nbr,item_nbr,unit_sales,onpromotion = next(pop_line_gen(lines))\n",
    "        ####print('sales', float(unit_sales), sale_isonpromo(onpromotion))\n",
    "        #if str(sale_isonpromo(onpromotion))[0] == 'T':\n",
    "        #    print(sale_isonpromo(onpromotion))\n",
    "        sales_v.append(float(unit_sales))\n",
    "        onpromotion_v.append(sale_isonpromo(onpromotion))\n",
    "        item_nbr_v.append(int(item_nbr))\n",
    "        \n",
    "        year, month, day = sale_date.split('-')\n",
    "        date_v.append(date.datetime(int(year),int(month),int(day)).isocalendar()[1])\n",
    "    return sales_v, onpromotion_v, item_nbr_v, date_v\n",
    "\n",
    "def pop_line_gen(lines): \n",
    "    tup = yield tuple(lines.pop().split(','))\n",
    "    return tup\n",
    "\n",
    "def sale_isonpromo(onpromotion):\n",
    "    return str(onpromotion)[0] == 'T'"
   ]
  },
  {
   "cell_type": "code",
   "execution_count": 41,
   "metadata": {},
   "outputs": [
    {
     "name": "stdout",
     "output_type": "stream",
     "text": [
      "[2.0, 11.0, 5.589, 11.0, 27.0, 4.0, 9.0, 5.0, 3.0, 1.0, 17.0, 8.0, 3.426, 5.0, 9.0, 3.0, 1.0, 1.0, 4.0, 9.0, 33.0, 17.0, 2.8, 2.0, 5.0, 26.0, 2.0, 36.0, 31.0, 16.0, 2.035, 44.855, 6.0, 1.0, 5.0, 7.0, 4.0, 4.0, 7.0, 4.0, 2.0, 55.0, 15.0, 2.0, 9.0, 1.0, 4.0, 3.0, 11.0, 2.0, 2.0, 1.0, 10.328, 1.0, 2.0, 19.0, 2.0, 1.0, 7.0, 3.0, 12.0, 8.0, 1.0, 24.0, 1.0, 8.0, 4.0, 9.316, 5.0, 1.0, 18.0, 2.0, 1.0, 6.0, 6.0, 15.0, 9.0, 1.0, 5.0, 6.0, 2.0, 19.0, 3.0, 4.0, 4.432, 4.0, 6.0, 34.0, 1.0, 3.0, 2.0, 3.0, 276.0, 2.0, 12.0, 19.0, 4.0, 1.0, 15.0, 6.0] [True, False, False, True, True, False, False, False, True, False, False, False, False, False, False, False, False, False, False, False, False, False, False, False, False, False, False, True, False, True, False, False, False, False, False, False, False, False, False, False, False, False, False, False, True, False, False, False, False, False, False, False, False, False, False, False, True, False, False, False, False, False, False, False, False, True, False, False, False, False, True, False, False, False, False, False, False, False, False, False, False, False, False, False, False, False, False, False, False, True, False, False, False, False, False, False, False, False, False, True]\n"
     ]
    }
   ],
   "source": [
    "lines = get_lines_dict(20000)\n",
    "sales, onpromotion, item_nbr, week_nr = get_info(lines)\n",
    "print(sales[:100], onpromotion[:100])"
   ]
  },
  {
   "cell_type": "markdown",
   "metadata": {},
   "source": [
    "<img src=\"images/bayes.jpg\" alt=\"bayes\" style=\"width: 250px;\"/>\n",
    "\n",
    "### <center> Thomas Bayes </center>\n",
    "<center> (1701 – 1761) </center>\n",
    "\n",
    "The code below samples sales data in order to predict if they are on promotion. After which we use the initial sample of sales as a Bayesian prior and samples of products on promotion as a posterior, incrementally decreasing variance."
   ]
  },
  {
   "cell_type": "code",
   "execution_count": 43,
   "metadata": {},
   "outputs": [
    {
     "data": {
      "text/plain": [
       "20000"
      ]
     },
     "execution_count": 43,
     "metadata": {},
     "output_type": "execute_result"
    }
   ],
   "source": [
    "#N\n",
    "len(sales)"
   ]
  },
  {
   "cell_type": "code",
   "execution_count": 44,
   "metadata": {},
   "outputs": [
    {
     "data": {
      "text/plain": [
       "2108"
      ]
     },
     "execution_count": 44,
     "metadata": {},
     "output_type": "execute_result"
    }
   ],
   "source": [
    "#sub_N\n",
    "sum(onpromotion)"
   ]
  },
  {
   "cell_type": "code",
   "execution_count": 80,
   "metadata": {},
   "outputs": [
    {
     "data": {
      "text/plain": [
       "0.8946000000000001"
      ]
     },
     "execution_count": 80,
     "metadata": {},
     "output_type": "execute_result"
    }
   ],
   "source": [
    "#sub_N percent of N\n",
    "1- sum(onpromotion)/len(sales)"
   ]
  },
  {
   "cell_type": "code",
   "execution_count": 55,
   "metadata": {},
   "outputs": [
    {
     "data": {
      "text/plain": [
       "(20000, 2)"
      ]
     },
     "execution_count": 55,
     "metadata": {},
     "output_type": "execute_result"
    }
   ],
   "source": [
    "X.shape"
   ]
  },
  {
   "cell_type": "code",
   "execution_count": 76,
   "metadata": {
    "collapsed": true
   },
   "outputs": [],
   "source": [
    "from sklearn.preprocessing import normalize\n",
    "matrix = np.arange(0,27,3).reshape(3,3).astype(np.float64)\n",
    "\n",
    "normed_matrix = normalize(X, axis=1, norm='l1')"
   ]
  },
  {
   "cell_type": "code",
   "execution_count": 73,
   "metadata": {
    "collapsed": true
   },
   "outputs": [
    {
     "data": {
      "text/plain": [
       "array([[  1.23849666e-05,   5.00000000e-05],\n",
       "       [  6.81173166e-05,   5.00000000e-05],\n",
       "       [  3.46097893e-05,   5.00000000e-05],\n",
       "       ..., \n",
       "       [  6.19248332e-06,   5.00000000e-05],\n",
       "       [  6.19248332e-06,   5.00000000e-05],\n",
       "       [  1.79582016e-04,   5.00000000e-05]])"
      ]
     },
     "execution_count": 73,
     "metadata": {},
     "output_type": "execute_result"
    }
   ],
   "source": [
    "normed_matrix"
   ]
  },
  {
   "cell_type": "code",
   "execution_count": 81,
   "metadata": {
    "collapsed": true
   },
   "outputs": [
    {
     "data": {
      "text/plain": [
       "[2.0,\n",
       " 11.0,\n",
       " 5.589,\n",
       " 11.0,\n",
       " 27.0,\n",
       " 4.0,\n",
       " 9.0,\n",
       " 5.0,\n",
       " 3.0,\n",
       " 1.0,\n",
       " 17.0,\n",
       " 8.0,\n",
       " 3.426,\n",
       " 5.0,\n",
       " 9.0,\n",
       " 3.0,\n",
       " 1.0,\n",
       " 1.0,\n",
       " 4.0,\n",
       " 9.0,\n",
       " 33.0,\n",
       " 17.0,\n",
       " 2.8,\n",
       " 2.0,\n",
       " 5.0,\n",
       " 26.0,\n",
       " 2.0,\n",
       " 36.0,\n",
       " 31.0,\n",
       " 16.0,\n",
       " 2.035,\n",
       " 44.855,\n",
       " 6.0,\n",
       " 1.0,\n",
       " 5.0,\n",
       " 7.0,\n",
       " 4.0,\n",
       " 4.0,\n",
       " 7.0,\n",
       " 4.0,\n",
       " 2.0,\n",
       " 55.0,\n",
       " 15.0,\n",
       " 2.0,\n",
       " 9.0,\n",
       " 1.0,\n",
       " 4.0,\n",
       " 3.0,\n",
       " 11.0,\n",
       " 2.0,\n",
       " 2.0,\n",
       " 1.0,\n",
       " 10.328,\n",
       " 1.0,\n",
       " 2.0,\n",
       " 19.0,\n",
       " 2.0,\n",
       " 1.0,\n",
       " 7.0,\n",
       " 3.0,\n",
       " 12.0,\n",
       " 8.0,\n",
       " 1.0,\n",
       " 24.0,\n",
       " 1.0,\n",
       " 8.0,\n",
       " 4.0,\n",
       " 9.316,\n",
       " 5.0,\n",
       " 1.0,\n",
       " 18.0,\n",
       " 2.0,\n",
       " 1.0,\n",
       " 6.0,\n",
       " 6.0,\n",
       " 15.0,\n",
       " 9.0,\n",
       " 1.0,\n",
       " 5.0,\n",
       " 6.0,\n",
       " 2.0,\n",
       " 19.0,\n",
       " 3.0,\n",
       " 4.0,\n",
       " 4.432,\n",
       " 4.0,\n",
       " 6.0,\n",
       " 34.0,\n",
       " 1.0,\n",
       " 3.0,\n",
       " 2.0,\n",
       " 3.0,\n",
       " 276.0,\n",
       " 2.0,\n",
       " 12.0,\n",
       " 19.0,\n",
       " 4.0,\n",
       " 1.0,\n",
       " 15.0,\n",
       " 6.0,\n",
       " 8.0,\n",
       " 3.0,\n",
       " 3.0,\n",
       " 2.0,\n",
       " 1.0,\n",
       " 1.0,\n",
       " 4.0,\n",
       " 3.0,\n",
       " 10.0,\n",
       " 1.0,\n",
       " 4.0,\n",
       " 6.0,\n",
       " 22.0,\n",
       " 4.0,\n",
       " 2.0,\n",
       " 3.0,\n",
       " 5.0,\n",
       " 13.0,\n",
       " 6.0,\n",
       " 4.0,\n",
       " 12.0,\n",
       " 4.0,\n",
       " 2.0,\n",
       " 1.0,\n",
       " 7.0,\n",
       " 1.0,\n",
       " 8.0,\n",
       " 3.0,\n",
       " 2.0,\n",
       " 3.0,\n",
       " 1.0,\n",
       " 1.684,\n",
       " 1.0,\n",
       " 2.0,\n",
       " 5.0,\n",
       " 5.0,\n",
       " 4.0,\n",
       " 4.0,\n",
       " 1.0,\n",
       " 2.881,\n",
       " 14.0,\n",
       " 2.0,\n",
       " 2.0,\n",
       " 6.0,\n",
       " 3.0,\n",
       " 3.0,\n",
       " 5.0,\n",
       " 6.0,\n",
       " 1.0,\n",
       " 11.0,\n",
       " 14.0,\n",
       " 10.0,\n",
       " 3.0,\n",
       " 25.0,\n",
       " 1.0,\n",
       " 1.0,\n",
       " 6.0,\n",
       " 3.0,\n",
       " 1.0,\n",
       " 1.0,\n",
       " 4.0,\n",
       " 16.829,\n",
       " 25.421,\n",
       " 8.0,\n",
       " 13.0,\n",
       " 11.0,\n",
       " 5.0,\n",
       " 1.0,\n",
       " 8.0,\n",
       " 4.0,\n",
       " 2.0,\n",
       " 2.0,\n",
       " 2.0,\n",
       " 1.0,\n",
       " 1.0,\n",
       " 1.0,\n",
       " 12.0,\n",
       " 1.0,\n",
       " 2.0,\n",
       " 12.0,\n",
       " 1.0,\n",
       " 3.0,\n",
       " 1.0,\n",
       " 18.0,\n",
       " 7.0,\n",
       " 2.664,\n",
       " 3.0,\n",
       " 1.0,\n",
       " 1.0,\n",
       " 29.682,\n",
       " 5.0,\n",
       " 4.0,\n",
       " 5.0,\n",
       " 1.0,\n",
       " 1.0,\n",
       " 5.0,\n",
       " 11.0,\n",
       " 9.0,\n",
       " 18.0,\n",
       " 15.0,\n",
       " 3.0,\n",
       " 5.429,\n",
       " 3.0,\n",
       " 4.0,\n",
       " 1.0,\n",
       " 1.0,\n",
       " 2.0,\n",
       " 4.0,\n",
       " 2.0,\n",
       " 1.0,\n",
       " 5.0,\n",
       " 2.0,\n",
       " 2.0,\n",
       " 1.0,\n",
       " 3.0,\n",
       " 3.0,\n",
       " 1.0,\n",
       " 1.0,\n",
       " 2.0,\n",
       " 1.0,\n",
       " 2.0,\n",
       " 1.0,\n",
       " 2.0,\n",
       " 20.0,\n",
       " 2.0,\n",
       " 6.0,\n",
       " 1.0,\n",
       " 9.0,\n",
       " 18.064,\n",
       " 3.0,\n",
       " 7.0,\n",
       " 1.0,\n",
       " 12.0,\n",
       " 48.0,\n",
       " 46.0,\n",
       " 5.279,\n",
       " 6.0,\n",
       " 3.0,\n",
       " 12.0,\n",
       " 10.0,\n",
       " 3.0,\n",
       " 3.0,\n",
       " 9.0,\n",
       " 2.0,\n",
       " 7.0,\n",
       " 2.0,\n",
       " 7.0,\n",
       " 1.0,\n",
       " 2.0,\n",
       " 7.0,\n",
       " 7.0,\n",
       " 8.0,\n",
       " 12.0,\n",
       " 7.0,\n",
       " 6.0,\n",
       " 1.0,\n",
       " 6.0,\n",
       " 7.0,\n",
       " 1.0,\n",
       " 1.0,\n",
       " 3.0,\n",
       " 2.0,\n",
       " 6.0,\n",
       " 4.0,\n",
       " 5.0,\n",
       " 5.484,\n",
       " 1.0,\n",
       " 1.0,\n",
       " 4.0,\n",
       " 4.0,\n",
       " 9.0,\n",
       " 4.0,\n",
       " 8.0,\n",
       " 3.0,\n",
       " 3.0,\n",
       " 26.0,\n",
       " 5.0,\n",
       " 5.0,\n",
       " 5.209,\n",
       " 10.0,\n",
       " 9.0,\n",
       " 3.0,\n",
       " 10.0,\n",
       " 9.0,\n",
       " 3.0,\n",
       " 5.0,\n",
       " 3.0,\n",
       " 16.0,\n",
       " 6.0,\n",
       " 17.0,\n",
       " 6.0,\n",
       " 6.0,\n",
       " 4.0,\n",
       " 3.0,\n",
       " 2.0,\n",
       " 13.0,\n",
       " 1.0,\n",
       " 7.0,\n",
       " 4.0,\n",
       " 2.0,\n",
       " 15.0,\n",
       " 2.0,\n",
       " 5.0,\n",
       " 0.533,\n",
       " 23.0,\n",
       " 2.0,\n",
       " 1.0,\n",
       " 4.0,\n",
       " 1.0,\n",
       " 1.0,\n",
       " 8.0,\n",
       " 1.0,\n",
       " 1.0,\n",
       " 6.0,\n",
       " 1.0,\n",
       " 1.0,\n",
       " 2.0,\n",
       " 72.0,\n",
       " 3.0,\n",
       " 9.0,\n",
       " 1.0,\n",
       " 10.0,\n",
       " 5.0,\n",
       " 3.0,\n",
       " 2.0,\n",
       " 3.0,\n",
       " 7.0,\n",
       " 8.0,\n",
       " 7.0,\n",
       " 2.0,\n",
       " 7.0,\n",
       " 1.0,\n",
       " 1.277,\n",
       " 13.0,\n",
       " 9.0,\n",
       " 10.0,\n",
       " 5.437,\n",
       " 1.0,\n",
       " 1.0,\n",
       " 3.0,\n",
       " 1.807,\n",
       " 1.0,\n",
       " 1.0,\n",
       " 3.0,\n",
       " 2.0,\n",
       " 1.0,\n",
       " 1.0,\n",
       " 39.485,\n",
       " 161.0,\n",
       " 6.0,\n",
       " 3.0,\n",
       " 4.0,\n",
       " 4.0,\n",
       " 1.0,\n",
       " 1.0,\n",
       " 3.0,\n",
       " 3.0,\n",
       " 12.0,\n",
       " 13.0,\n",
       " 3.0,\n",
       " 1.0,\n",
       " 2.0,\n",
       " 5.0,\n",
       " 1.0,\n",
       " 18.0,\n",
       " 2.0,\n",
       " 11.0,\n",
       " 15.0,\n",
       " 4.0,\n",
       " 35.0,\n",
       " 2.777,\n",
       " 1.0,\n",
       " 1.762,\n",
       " 7.0,\n",
       " 5.0,\n",
       " 6.0,\n",
       " 41.0,\n",
       " 1.0,\n",
       " 2.0,\n",
       " 2.0,\n",
       " 15.0,\n",
       " 1.0,\n",
       " 3.0,\n",
       " 5.0,\n",
       " 5.0,\n",
       " 1.0,\n",
       " 14.0,\n",
       " 2.0,\n",
       " 32.0,\n",
       " 1.0,\n",
       " 2.0,\n",
       " 4.0,\n",
       " 1.0,\n",
       " 2.0,\n",
       " 4.0,\n",
       " 10.0,\n",
       " 24.0,\n",
       " 34.0,\n",
       " 2.0,\n",
       " 2.0,\n",
       " 1.0,\n",
       " 1.0,\n",
       " 1.0,\n",
       " 2.0,\n",
       " 3.0,\n",
       " 15.0,\n",
       " 4.0,\n",
       " 22.0,\n",
       " 3.0,\n",
       " 1.0,\n",
       " 7.0,\n",
       " 3.866,\n",
       " 2.0,\n",
       " 3.0,\n",
       " 18.158,\n",
       " 22.0,\n",
       " 13.0,\n",
       " 3.0,\n",
       " 10.0,\n",
       " 3.0,\n",
       " 25.976,\n",
       " 3.0,\n",
       " 3.0,\n",
       " 1.0,\n",
       " 2.0,\n",
       " 28.0,\n",
       " 7.0,\n",
       " 2.0,\n",
       " 2.0,\n",
       " 6.0,\n",
       " 2.0,\n",
       " 2.0,\n",
       " 3.223,\n",
       " 2.0,\n",
       " 4.0,\n",
       " 21.0,\n",
       " 5.0,\n",
       " 9.0,\n",
       " 19.0,\n",
       " 1.0,\n",
       " 2.0,\n",
       " 2.0,\n",
       " 6.0,\n",
       " 6.0,\n",
       " 1.0,\n",
       " 17.0,\n",
       " 3.0,\n",
       " 10.0,\n",
       " 1.0,\n",
       " 27.0,\n",
       " 3.0,\n",
       " 1.0,\n",
       " 1.0,\n",
       " 3.0,\n",
       " 2.0,\n",
       " 7.0,\n",
       " 1.0,\n",
       " 18.0,\n",
       " 1.0,\n",
       " 6.0,\n",
       " 2.0,\n",
       " 0.387,\n",
       " 2.0,\n",
       " 9.0,\n",
       " 4.0,\n",
       " 1.0,\n",
       " 5.0,\n",
       " 31.0,\n",
       " 2.0,\n",
       " 1.0,\n",
       " 8.0,\n",
       " 2.0,\n",
       " 22.646,\n",
       " 1.005,\n",
       " 5.0,\n",
       " 2.0,\n",
       " 8.0,\n",
       " 6.0,\n",
       " 116.388,\n",
       " 1.0,\n",
       " 18.0,\n",
       " 6.0,\n",
       " 2.0,\n",
       " 7.0,\n",
       " 4.0,\n",
       " 19.0,\n",
       " 6.0,\n",
       " 8.0,\n",
       " 2.0,\n",
       " 38.825,\n",
       " 3.0,\n",
       " 1.0,\n",
       " 9.0,\n",
       " 7.822,\n",
       " 4.0,\n",
       " 9.0,\n",
       " 2.0,\n",
       " 1.0,\n",
       " 4.0,\n",
       " 30.0,\n",
       " 6.0,\n",
       " 5.0,\n",
       " 1.0,\n",
       " 3.0,\n",
       " 21.0,\n",
       " 2.0,\n",
       " 7.0,\n",
       " 17.0,\n",
       " 1.0,\n",
       " 1.0,\n",
       " 23.0,\n",
       " 1.0,\n",
       " 3.0,\n",
       " 1.0,\n",
       " 4.0,\n",
       " 1.0,\n",
       " 5.0,\n",
       " 1.0,\n",
       " 1.0,\n",
       " 3.22,\n",
       " 2.0,\n",
       " 9.0,\n",
       " 1.0,\n",
       " 2.0,\n",
       " 6.0,\n",
       " 1.0,\n",
       " 8.0,\n",
       " 1.0,\n",
       " 1.0,\n",
       " 1.0,\n",
       " 6.0,\n",
       " 1.0,\n",
       " 3.0,\n",
       " 1.0,\n",
       " 4.0,\n",
       " 12.0,\n",
       " 7.931,\n",
       " 26.0,\n",
       " 37.0,\n",
       " 20.0,\n",
       " 3.0,\n",
       " 3.0,\n",
       " 7.0,\n",
       " 13.0,\n",
       " 1.0,\n",
       " 2.0,\n",
       " 6.0,\n",
       " 2.0,\n",
       " 1.0,\n",
       " 2.0,\n",
       " 1.0,\n",
       " 11.0,\n",
       " 4.0,\n",
       " 2.0,\n",
       " 3.0,\n",
       " 1.0,\n",
       " 52.0,\n",
       " 3.0,\n",
       " 74.0,\n",
       " 7.0,\n",
       " 32.0,\n",
       " 8.0,\n",
       " 6.0,\n",
       " 1.0,\n",
       " 2.0,\n",
       " 32.0,\n",
       " 9.0,\n",
       " 9.0,\n",
       " 10.0,\n",
       " 5.667,\n",
       " 13.0,\n",
       " 1.0,\n",
       " 1.0,\n",
       " 14.0,\n",
       " 13.0,\n",
       " 8.0,\n",
       " 2.0,\n",
       " 2.0,\n",
       " 10.0,\n",
       " 11.0,\n",
       " 68.656,\n",
       " 4.0,\n",
       " 1.0,\n",
       " 2.0,\n",
       " 1.0,\n",
       " 12.0,\n",
       " 15.0,\n",
       " 21.0,\n",
       " 1.0,\n",
       " 5.0,\n",
       " 9.49,\n",
       " 20.0,\n",
       " 33.0,\n",
       " 4.0,\n",
       " 2.0,\n",
       " 1.0,\n",
       " 1.0,\n",
       " 1.0,\n",
       " 3.372,\n",
       " 1.0,\n",
       " 3.0,\n",
       " 3.0,\n",
       " 4.0,\n",
       " 8.0,\n",
       " 11.0,\n",
       " 7.0,\n",
       " 7.0,\n",
       " 9.0,\n",
       " 5.0,\n",
       " 3.0,\n",
       " 7.0,\n",
       " 1.0,\n",
       " 1.0,\n",
       " 17.0,\n",
       " 2.0,\n",
       " 2.0,\n",
       " 4.0,\n",
       " 2.0,\n",
       " 1.0,\n",
       " 10.0,\n",
       " 3.0,\n",
       " 1.0,\n",
       " 4.0,\n",
       " 4.0,\n",
       " 14.0,\n",
       " 24.0,\n",
       " 39.0,\n",
       " 2.0,\n",
       " 3.0,\n",
       " 8.0,\n",
       " 17.77,\n",
       " 10.0,\n",
       " 36.0,\n",
       " 4.0,\n",
       " 5.0,\n",
       " 1.0,\n",
       " 5.0,\n",
       " 9.0,\n",
       " 10.663,\n",
       " 3.0,\n",
       " 21.0,\n",
       " 4.0,\n",
       " 1.0,\n",
       " 1.0,\n",
       " 2.0,\n",
       " 11.0,\n",
       " 1.0,\n",
       " 1.0,\n",
       " 19.0,\n",
       " 5.0,\n",
       " 2.0,\n",
       " 7.075,\n",
       " 3.0,\n",
       " 1.0,\n",
       " 4.0,\n",
       " 2.0,\n",
       " 13.0,\n",
       " 1.0,\n",
       " 1.0,\n",
       " 2.0,\n",
       " 5.101,\n",
       " 3.0,\n",
       " 2.0,\n",
       " 3.0,\n",
       " 4.0,\n",
       " 2.07,\n",
       " 3.235,\n",
       " 2.0,\n",
       " 15.0,\n",
       " 6.0,\n",
       " 3.0,\n",
       " 1.0,\n",
       " 1.0,\n",
       " 9.0,\n",
       " 2.0,\n",
       " 28.0,\n",
       " 10.0,\n",
       " 2.0,\n",
       " 33.847,\n",
       " 3.0,\n",
       " 16.0,\n",
       " 7.0,\n",
       " 1.0,\n",
       " 3.0,\n",
       " 5.0,\n",
       " 4.0,\n",
       " 6.0,\n",
       " 25.0,\n",
       " 1.0,\n",
       " 5.0,\n",
       " 1.0,\n",
       " 2.0,\n",
       " 5.0,\n",
       " 2.0,\n",
       " 3.0,\n",
       " 3.0,\n",
       " 16.0,\n",
       " 4.0,\n",
       " 11.0,\n",
       " 7.0,\n",
       " 1.0,\n",
       " 4.0,\n",
       " 6.0,\n",
       " 59.0,\n",
       " 3.0,\n",
       " 7.0,\n",
       " 1.0,\n",
       " 1.0,\n",
       " 5.0,\n",
       " 1.0,\n",
       " 2.0,\n",
       " 25.0,\n",
       " 3.0,\n",
       " 1.0,\n",
       " 9.0,\n",
       " 2.0,\n",
       " 1.0,\n",
       " 7.0,\n",
       " 2.0,\n",
       " 2.0,\n",
       " 2.859,\n",
       " 9.0,\n",
       " 11.0,\n",
       " 3.0,\n",
       " 10.0,\n",
       " 1.0,\n",
       " 2.0,\n",
       " 6.0,\n",
       " 7.0,\n",
       " 3.0,\n",
       " 13.0,\n",
       " 2.0,\n",
       " 2.0,\n",
       " 3.0,\n",
       " 27.0,\n",
       " 3.0,\n",
       " 2.0,\n",
       " 3.0,\n",
       " 23.0,\n",
       " 1.846,\n",
       " 4.0,\n",
       " 1.0,\n",
       " 3.0,\n",
       " 4.0,\n",
       " 4.0,\n",
       " 2.0,\n",
       " 8.0,\n",
       " 6.0,\n",
       " 12.0,\n",
       " 1.0,\n",
       " 1.0,\n",
       " 2.0,\n",
       " 7.0,\n",
       " 12.0,\n",
       " 13.0,\n",
       " 1.0,\n",
       " 2.0,\n",
       " 60.0,\n",
       " 3.0,\n",
       " 2.0,\n",
       " 1.0,\n",
       " 3.0,\n",
       " 0.801,\n",
       " 5.0,\n",
       " 12.0,\n",
       " 2.472,\n",
       " 19.0,\n",
       " 3.0,\n",
       " 9.0,\n",
       " 2.0,\n",
       " 1.0,\n",
       " 1.0,\n",
       " 1.0,\n",
       " 3.0,\n",
       " 2.0,\n",
       " 3.0,\n",
       " 3.0,\n",
       " 1.0,\n",
       " 1.0,\n",
       " 3.0,\n",
       " 5.0,\n",
       " 4.0,\n",
       " 53.0,\n",
       " 17.0,\n",
       " 6.0,\n",
       " 4.0,\n",
       " 2.0,\n",
       " 17.0,\n",
       " 1.0,\n",
       " 4.0,\n",
       " 7.0,\n",
       " 3.0,\n",
       " 4.0,\n",
       " 1.0,\n",
       " 6.0,\n",
       " 2.0,\n",
       " 10.0,\n",
       " 5.0,\n",
       " 5.0,\n",
       " 2.0,\n",
       " 7.0,\n",
       " 13.0,\n",
       " 10.0,\n",
       " 19.0,\n",
       " 2.0,\n",
       " 2.0,\n",
       " 2.0,\n",
       " 7.794,\n",
       " 9.0,\n",
       " 3.486,\n",
       " 9.0,\n",
       " 5.0,\n",
       " 1.0,\n",
       " 5.0,\n",
       " 1.0,\n",
       " 9.0,\n",
       " 2.0,\n",
       " 26.0,\n",
       " 17.0,\n",
       " 2.0,\n",
       " 22.0,\n",
       " 6.0,\n",
       " 3.0,\n",
       " 9.0,\n",
       " 1.0,\n",
       " 15.0,\n",
       " 18.0,\n",
       " 4.0,\n",
       " 3.0,\n",
       " 3.149,\n",
       " 3.0,\n",
       " 1.0,\n",
       " 8.0,\n",
       " 3.0,\n",
       " 9.0,\n",
       " 4.0,\n",
       " 10.0,\n",
       " 1.0,\n",
       " 11.0,\n",
       " 81.149,\n",
       " 2.0,\n",
       " 14.553,\n",
       " 4.0,\n",
       " 6.0,\n",
       " 3.0,\n",
       " 2.0,\n",
       " 1.0,\n",
       " 1.0,\n",
       " 2.0,\n",
       " 2.0,\n",
       " 2.0,\n",
       " 4.0,\n",
       " 15.0,\n",
       " 5.0,\n",
       " 12.0,\n",
       " 2.0,\n",
       " 9.0,\n",
       " 4.0,\n",
       " 1.0,\n",
       " 2.0,\n",
       " 4.0,\n",
       " 10.0,\n",
       " 8.0,\n",
       " 2.0,\n",
       " 5.0,\n",
       " 4.0,\n",
       " 44.0,\n",
       " 11.0,\n",
       " 4.0,\n",
       " 1.0,\n",
       " 5.0,\n",
       " 7.0,\n",
       " 25.0,\n",
       " 2.0,\n",
       " 2.0,\n",
       " 2.0,\n",
       " 1.0,\n",
       " 3.0,\n",
       " 1.0,\n",
       " 10.0,\n",
       " 6.0,\n",
       " 1.0,\n",
       " 5.0,\n",
       " 5.0,\n",
       " 10.0,\n",
       " 2.0,\n",
       " 13.0,\n",
       " 6.0,\n",
       " 1.0,\n",
       " 6.0,\n",
       " 7.0,\n",
       " 3.0,\n",
       " 1.0,\n",
       " 2.0,\n",
       " 3.0,\n",
       " 7.0,\n",
       " 15.0,\n",
       " 5.0,\n",
       " 4.0,\n",
       " 10.0,\n",
       " 5.0,\n",
       " 7.0,\n",
       " 2.0,\n",
       " 1.0,\n",
       " 6.0,\n",
       " 19.0,\n",
       " 7.0,\n",
       " 5.0,\n",
       " 3.0,\n",
       " 25.0,\n",
       " 4.0,\n",
       " 58.0,\n",
       " 2.0,\n",
       " 3.0,\n",
       " 5.0,\n",
       " 20.0,\n",
       " 5.0,\n",
       " 1.0,\n",
       " 3.0,\n",
       " 1.0,\n",
       " 13.0,\n",
       " 16.0,\n",
       " 2.0,\n",
       " 55.0,\n",
       " 3.0,\n",
       " 3.0,\n",
       " 1.0,\n",
       " 1.0,\n",
       " 2.0,\n",
       " 14.0,\n",
       " 3.0,\n",
       " 5.0,\n",
       " 4.0,\n",
       " 4.0,\n",
       " 1.0,\n",
       " 6.0,\n",
       " 3.0,\n",
       " 1.0,\n",
       " 8.0,\n",
       " 1.0,\n",
       " 3.0,\n",
       " 5.0,\n",
       " 1.0,\n",
       " 21.0,\n",
       " 3.0,\n",
       " 4.0,\n",
       " 28.0,\n",
       " 1.0,\n",
       " 4.0,\n",
       " 2.0,\n",
       " 5.0,\n",
       " 3.0,\n",
       " 27.0,\n",
       " 1.0,\n",
       " 8.0,\n",
       " 5.0,\n",
       " 2.0,\n",
       " 1.0,\n",
       " 2.0,\n",
       " 13.0,\n",
       " 29.0,\n",
       " 4.0,\n",
       " 24.0,\n",
       " 1.0,\n",
       " 2.0,\n",
       " 5.0,\n",
       " 6.0,\n",
       " 17.0,\n",
       " 9.0,\n",
       " 6.399,\n",
       " 23.0,\n",
       " 4.0,\n",
       " 14.08,\n",
       " 1.0,\n",
       " 2.0,\n",
       " 56.0,\n",
       " 17.0,\n",
       " 9.0,\n",
       " 3.0,\n",
       " 125.0,\n",
       " 7.0,\n",
       " 8.0,\n",
       " 4.0,\n",
       " 19.0,\n",
       " 6.0,\n",
       " 4.0,\n",
       " 10.0,\n",
       " 19.0,\n",
       " 3.0,\n",
       " 30.799,\n",
       " 1.0,\n",
       " 8.0,\n",
       " 35.0,\n",
       " 2.0,\n",
       " 5.0,\n",
       " 2.0,\n",
       " 5.687,\n",
       " 1.0,\n",
       " 2.0,\n",
       " 5.0,\n",
       " ...]"
      ]
     },
     "execution_count": 81,
     "metadata": {},
     "output_type": "execute_result"
    }
   ],
   "source": [
    "sales"
   ]
  },
  {
   "cell_type": "code",
   "execution_count": null,
   "metadata": {
    "collapsed": true
   },
   "outputs": [],
   "source": []
  },
  {
   "cell_type": "code",
   "execution_count": 98,
   "metadata": {},
   "outputs": [
    {
     "data": {
      "text/plain": [
       "array([ 5637, 12399,  8814, ...,   453,  2258, 11115])"
      ]
     },
     "execution_count": 98,
     "metadata": {},
     "output_type": "execute_result"
    }
   ],
   "source": [
    "sample_index"
   ]
  },
  {
   "cell_type": "code",
   "execution_count": 97,
   "metadata": {},
   "outputs": [
    {
     "data": {
      "text/plain": [
       "array([[ 2.   ,  1.   ],\n",
       "       [ 1.   ,  1.   ],\n",
       "       [ 3.   ,  1.   ],\n",
       "       ..., \n",
       "       [ 3.   ,  1.   ],\n",
       "       [ 7.583,  1.   ],\n",
       "       [ 2.   ,  1.   ]])"
      ]
     },
     "execution_count": 97,
     "metadata": {},
     "output_type": "execute_result"
    }
   ],
   "source": [
    "X[sample_index]"
   ]
  },
  {
   "cell_type": "code",
   "execution_count": 118,
   "metadata": {},
   "outputs": [
    {
     "data": {
      "text/plain": [
       "20000"
      ]
     },
     "execution_count": 118,
     "metadata": {},
     "output_type": "execute_result"
    }
   ],
   "source": [
    "len(y)"
   ]
  },
  {
   "cell_type": "code",
   "execution_count": 120,
   "metadata": {
    "scrolled": true
   },
   "outputs": [
    {
     "data": {
      "text/plain": [
       "141"
      ]
     },
     "execution_count": 120,
     "metadata": {},
     "output_type": "execute_result"
    }
   ],
   "source": [
    "int(np.round(np.sqrt(len(y))))"
   ]
  },
  {
   "cell_type": "code",
   "execution_count": 124,
   "metadata": {},
   "outputs": [
    {
     "data": {
      "text/plain": [
       "20000"
      ]
     },
     "execution_count": 124,
     "metadata": {},
     "output_type": "execute_result"
    }
   ],
   "source": []
  },
  {
   "cell_type": "code",
   "execution_count": 128,
   "metadata": {},
   "outputs": [
    {
     "data": {
      "text/plain": [
       "1.0"
      ]
     },
     "execution_count": 128,
     "metadata": {},
     "output_type": "execute_result"
    }
   ],
   "source": [
    "count_elements/len(y)"
   ]
  },
  {
   "cell_type": "code",
   "execution_count": 144,
   "metadata": {},
   "outputs": [
    {
     "data": {
      "text/plain": [
       "array([[-1.26875038, -1.18918725, -0.10861647, ...,  0.89786647,\n",
       "         0.52676577,  0.0128366 ],\n",
       "       [-1.26875038, -1.18918725, -0.10861647, ...,  0.89786647,\n",
       "         0.52676577,  0.0128366 ],\n",
       "       [-1.26875038, -1.18918725, -0.10861647, ...,  0.89786647,\n",
       "         0.52676577,  0.0128366 ],\n",
       "       ..., \n",
       "       [-1.26875038, -1.18918725, -0.10861647, ...,  0.89786647,\n",
       "         0.52676577,  0.0128366 ],\n",
       "       [-1.26875038, -1.18918725, -0.10861647, ...,  0.89786647,\n",
       "         0.52676577,  0.0128366 ],\n",
       "       [-1.26875038, -1.18918725, -0.10861647, ...,  0.89786647,\n",
       "         0.52676577,  0.0128366 ]])"
      ]
     },
     "execution_count": 144,
     "metadata": {},
     "output_type": "execute_result"
    }
   ],
   "source": [
    "y"
   ]
  },
  {
   "cell_type": "code",
   "execution_count": 143,
   "metadata": {},
   "outputs": [
    {
     "data": {
      "text/plain": [
       "array([[ 0.51947584, -1.26875038,  0.24042003, ..., -0.15138519,\n",
       "         0.28632537, -2.23351008],\n",
       "       [ 0.51947584, -1.26875038,  0.24042003, ..., -0.15138519,\n",
       "         0.28632537, -2.23351008],\n",
       "       [ 0.51947584, -1.26875038,  0.24042003, ..., -0.15138519,\n",
       "         0.28632537, -2.23351008],\n",
       "       ..., \n",
       "       [ 0.51947584, -1.26875038,  0.24042003, ..., -0.15138519,\n",
       "         0.28632537, -2.23351008],\n",
       "       [ 0.51947584, -1.26875038,  0.24042003, ..., -0.15138519,\n",
       "         0.28632537, -2.23351008],\n",
       "       [ 0.51947584, -1.26875038,  0.24042003, ..., -0.15138519,\n",
       "         0.28632537, -2.23351008]])"
      ]
     },
     "execution_count": 143,
     "metadata": {},
     "output_type": "execute_result"
    }
   ],
   "source": [
    "x"
   ]
  },
  {
   "cell_type": "code",
   "execution_count": null,
   "metadata": {
    "collapsed": true
   },
   "outputs": [],
   "source": [
    "np.array(onpromotion).astype(int)"
   ]
  },
  {
   "cell_type": "code",
   "execution_count": 165,
   "metadata": {},
   "outputs": [
    {
     "ename": "IndexError",
     "evalue": "arrays used as indices must be of integer (or boolean) type",
     "output_type": "error",
     "traceback": [
      "\u001b[1;31m---------------------------------------------------------------------------\u001b[0m",
      "\u001b[1;31mIndexError\u001b[0m                                Traceback (most recent call last)",
      "\u001b[1;32m<ipython-input-165-e7779ab07bba>\u001b[0m in \u001b[0;36m<module>\u001b[1;34m()\u001b[0m\n\u001b[0;32m      1\u001b[0m \u001b[0msidx\u001b[0m \u001b[1;33m=\u001b[0m \u001b[0mnp\u001b[0m\u001b[1;33m.\u001b[0m\u001b[0mrandom\u001b[0m\u001b[1;33m.\u001b[0m\u001b[0mpermutation\u001b[0m\u001b[1;33m(\u001b[0m\u001b[0msales\u001b[0m\u001b[1;33m)\u001b[0m\u001b[1;33m\u001b[0m\u001b[0m\n\u001b[1;32m----> 2\u001b[1;33m \u001b[0my\u001b[0m \u001b[1;33m=\u001b[0m \u001b[0mx\u001b[0m\u001b[1;33m[\u001b[0m\u001b[1;33m:\u001b[0m\u001b[1;33m,\u001b[0m \u001b[0msidx\u001b[0m\u001b[1;33m]\u001b[0m\u001b[1;33m\u001b[0m\u001b[0m\n\u001b[0m",
      "\u001b[1;31mIndexError\u001b[0m: arrays used as indices must be of integer (or boolean) type"
     ]
    }
   ],
   "source": [
    "sidx = np.random.permutation(sales)\n",
    "y = x[:, sidx]"
   ]
  },
  {
   "cell_type": "code",
   "execution_count": 152,
   "metadata": {
    "collapsed": true
   },
   "outputs": [
    {
     "data": {
      "text/plain": [
       "array([951,  41,   3, 561, 733, 719, 232, 949, 443, 566, 229,  93, 290,\n",
       "       473, 461,  82, 140, 369, 720, 364, 535, 412, 148, 662, 686, 218,\n",
       "       201, 891, 300,  49, 137, 634, 207, 782, 989, 817, 271, 684, 867,\n",
       "       862, 475, 691, 211, 142, 465, 251, 689, 820, 120, 564, 608, 344,\n",
       "       107, 930, 612, 246, 665, 784, 447, 361, 931, 274, 519, 190, 470,\n",
       "         6,  98, 477, 717, 872,  29, 349, 805, 417,  61, 586,  27, 186,\n",
       "       542, 794, 548, 978, 845, 752, 305, 531,  38, 513, 942, 455,  47,\n",
       "       826, 620, 603,  40, 510, 657, 656, 778, 677, 713, 517, 648, 921,\n",
       "       117, 112, 377, 495, 946, 129, 779, 961, 577, 426, 485, 546, 295,\n",
       "       530, 234, 887, 840, 403,  45,  37, 727, 427, 785,  78, 619, 365,\n",
       "       715, 663,  48, 824, 405, 562,  12, 557, 625, 205, 547, 143, 551,\n",
       "        44, 922, 658,  63, 267, 231, 852, 801, 188,  62, 932,  14,  33,\n",
       "       151, 769, 680, 442, 293, 160, 633, 992, 250, 187, 144, 380, 816,\n",
       "       375, 661, 568, 957, 588, 976, 216, 580, 965, 828, 348, 324, 724,\n",
       "       320, 631, 474, 818, 694, 115, 649,  13,  24,  97, 480, 910, 601,\n",
       "       630, 804, 482, 893, 181, 468, 289, 191,  68,   2, 134, 341, 685,\n",
       "       313, 813, 265, 642, 430, 543, 178,  50, 521, 279, 366, 627, 671,\n",
       "       952, 362, 500, 368, 653, 880, 878, 136, 197, 321, 582, 394, 890,\n",
       "       948, 245, 378, 298, 859, 342, 273, 899,  87, 983, 126,  36, 632,\n",
       "        10, 261, 901, 494,  52, 496, 672, 646, 387, 991, 980,  90, 327,\n",
       "       904, 128, 497, 460, 384,  42, 215, 119, 339, 516, 832, 157, 650,\n",
       "       563,  95,  17, 886, 740, 224, 462, 423, 780, 753, 823, 639, 396,\n",
       "       357, 139,  81, 268, 763, 122, 774, 174, 147, 960, 856, 180, 402,\n",
       "       492, 425, 755, 616, 183, 708, 609, 810,  85, 844, 700, 913, 196,\n",
       "       429, 900, 853, 821, 283, 445, 410, 624, 152, 179, 478, 587, 280,\n",
       "       836, 938, 401, 573, 448, 336, 654, 729, 146, 857, 471, 374, 746,\n",
       "       499, 879, 958, 258, 579, 751, 988, 238, 596, 815, 498, 776, 319,\n",
       "       698, 835, 981, 605, 237, 738, 244, 741, 337,  72, 718, 866, 977,\n",
       "       371, 303, 282, 864, 979, 421, 732, 847,  89, 728,  59,  58, 793,\n",
       "       576, 834, 889, 292, 975, 315, 534, 723, 424, 926, 896, 145, 118,\n",
       "       569, 236, 770, 256, 903, 927,  20, 263, 469, 330, 739, 436, 985,\n",
       "       156, 953, 875, 226, 206, 692, 944, 556,  15, 943, 850, 795, 452,\n",
       "       506, 438, 940, 897, 332, 811, 225, 350, 309, 731, 660, 714, 272,\n",
       "       328, 302, 428, 109,  94, 607,  51, 851, 125, 570, 894, 822, 520,\n",
       "       647,  18, 505, 522, 356, 487,  69, 640, 240, 611, 594, 674, 233,\n",
       "       757, 917, 584, 382, 997, 789,  23, 512, 243, 333, 175, 798, 970,\n",
       "       194, 209, 212, 169, 589, 908, 476, 911, 736, 383, 311, 193, 623,\n",
       "       352, 322,   7, 936, 351, 999,  19, 220, 745, 440, 124, 883, 626,\n",
       "       184, 777, 552, 101, 829, 750, 553, 222,  11, 892, 329, 585, 590,\n",
       "       675, 507, 744, 572, 637,  77, 416,  84, 843, 628, 599,  74, 247,\n",
       "       210, 876, 758, 508, 338,  26, 457, 254, 108, 742, 504, 613, 167,\n",
       "       381, 833, 155, 935, 195, 792, 854,  92, 838, 754,  54, 709, 260,\n",
       "       914,  65, 873, 710, 130, 509, 299, 537, 902, 213, 379, 973, 799,\n",
       "       219, 501, 995, 721, 610, 962, 200, 435,  43, 814, 214, 968, 347,\n",
       "       110, 153, 467, 527, 775, 825, 539, 855, 667,  21, 881, 524, 391,\n",
       "       909,   5, 253, 223, 420,  86, 532, 411, 863, 404, 166, 549, 432,\n",
       "       316, 544,  39, 636, 974, 830, 668, 437, 173, 565, 673, 618, 114,\n",
       "       874, 393, 464, 308, 456,  60, 806,   0, 325, 503, 335, 803, 629,\n",
       "       712, 994, 808,  96, 860, 703, 172, 165, 711,  25, 679, 882, 481,\n",
       "       762, 702, 526, 550, 168, 277, 192,  83,  28, 276, 947, 678, 696,\n",
       "       747,  32, 227, 676, 645, 433, 454, 488, 486, 756, 100, 489, 198,\n",
       "       373, 312, 990, 484, 895,  88, 919, 310, 353, 434, 655, 699, 255,\n",
       "       760, 641, 102, 858,  99,  30, 288, 230, 923, 598, 996, 422, 593,\n",
       "       301, 764, 937, 528, 441, 514,  75, 123, 345, 869, 560, 861, 235,\n",
       "       984, 449, 920, 515,  70, 683, 939, 431, 783, 228, 966, 239, 790,\n",
       "       221, 575, 907, 398, 796,  31, 888, 287, 199, 463, 963, 722, 972,\n",
       "       606, 372, 615,   9, 933, 161, 257, 162, 493, 389, 681, 781, 453,\n",
       "       269, 771, 737,  55,  80, 359, 918, 296, 621, 865,   1, 241,   8,\n",
       "       819, 388, 558,  34, 163, 111, 905,  16, 358, 839, 158, 204, 791,\n",
       "       664, 848, 622, 581, 707, 877, 458, 571, 831,  66, 446, 395, 408,\n",
       "       363, 323, 849, 113, 725,  76, 306, 185, 597, 439, 523, 704, 343,\n",
       "       541, 242, 334, 969, 786, 967, 259, 928, 459,  64,  57, 761, 399,\n",
       "       555, 687, 982, 846,   4, 809, 841, 304, 759, 275, 202, 788, 955,\n",
       "       502, 121, 591, 281, 386, 407, 669, 870,  35, 682, 666, 659, 415,\n",
       "       284, 916, 472, 915, 176, 670, 701, 116, 392, 954, 131,  22, 490,\n",
       "       574, 602, 726, 208, 604, 706,  91, 536, 868, 924, 418, 249, 414,\n",
       "       103, 270, 925, 159, 986, 203, 767, 812, 189, 307, 171, 797, 133,\n",
       "       390, 248, 693, 444, 734, 266, 104, 105, 945, 554, 643,  53, 491,\n",
       "       735, 827, 716, 318, 950, 898, 934, 559, 419, 772, 511, 400, 314,\n",
       "       483, 998, 540, 149, 262, 773, 929, 595,  67, 651, 294, 617, 993,\n",
       "       768,  46, 360, 697, 885, 802, 479, 413, 766, 787, 695, 450, 397,\n",
       "       614, 106, 291,  79, 533, 600, 518, 906, 987, 748, 252, 409, 730,\n",
       "       912,  71, 705, 354, 964, 264, 138, 545, 959, 842, 340, 326,  56,\n",
       "        73, 956, 164, 346, 743, 286, 278, 141, 370, 971, 132, 170, 592,\n",
       "       406, 807, 154, 385, 367, 884, 529, 941, 583, 150, 525, 135, 567,\n",
       "       355, 690, 578, 285, 837, 331, 749, 635, 652, 451, 800, 644, 466,\n",
       "       182, 376, 127, 217, 638, 297, 765, 871, 317, 538, 688, 177])"
      ]
     },
     "execution_count": 152,
     "metadata": {},
     "output_type": "execute_result"
    }
   ],
   "source": [
    "np.random.permutation(nsamples)"
   ]
  },
  {
   "cell_type": "code",
   "execution_count": 153,
   "metadata": {},
   "outputs": [
    {
     "data": {
      "text/plain": [
       "array([4, 1, 5, ..., 8, 2, 3])"
      ]
     },
     "execution_count": 153,
     "metadata": {},
     "output_type": "execute_result"
    }
   ],
   "source": [
    "np.random.permutation(sales).astype(int)"
   ]
  },
  {
   "cell_type": "code",
   "execution_count": null,
   "metadata": {
    "collapsed": true
   },
   "outputs": [],
   "source": [
    "import scipy.stats as stats\n",
    "\n",
    "ngenes = 100\n",
    "ncases = 500\n",
    "nctrls = 500\n",
    "nsamples = ncases + nctrls\n",
    "\n",
    "t, p0 = stats.ttest_ind(x[:, :ncases], x[:, ncases:], axis=1)\n",
    "idx = p0 < 0.01\n",
    "print('Minimum p-value', p0.min(), '# significant', idx.sum())"
   ]
  },
  {
   "cell_type": "code",
   "execution_count": 140,
   "metadata": {},
   "outputs": [
    {
     "name": "stdout",
     "output_type": "stream",
     "text": [
      "Minimum p-value 0.0119317780363 # significant 100\n"
     ]
    },
    {
     "ename": "NameError",
     "evalue": "name 'k' is not defined",
     "output_type": "error",
     "traceback": [
      "\u001b[1;31m---------------------------------------------------------------------------\u001b[0m",
      "\u001b[1;31mNameError\u001b[0m                                 Traceback (most recent call last)",
      "\u001b[1;32m<ipython-input-140-da98d2cf7543>\u001b[0m in \u001b[0;36m<module>\u001b[1;34m()\u001b[0m\n\u001b[0;32m     17\u001b[0m \u001b[0mnperms\u001b[0m \u001b[1;33m=\u001b[0m \u001b[1;36m10000\u001b[0m\u001b[1;33m\u001b[0m\u001b[0m\n\u001b[0;32m     18\u001b[0m \u001b[1;33m\u001b[0m\u001b[0m\n\u001b[1;32m---> 19\u001b[1;33m \u001b[0mcounts\u001b[0m \u001b[1;33m=\u001b[0m \u001b[0mnp\u001b[0m\u001b[1;33m.\u001b[0m\u001b[0mzeros\u001b[0m\u001b[1;33m(\u001b[0m\u001b[1;33m(\u001b[0m\u001b[0mnperms\u001b[0m\u001b[1;33m,\u001b[0m \u001b[0mk\u001b[0m\u001b[1;33m)\u001b[0m\u001b[1;33m)\u001b[0m\u001b[1;33m\u001b[0m\u001b[0m\n\u001b[0m\u001b[0;32m     20\u001b[0m \u001b[0mt\u001b[0m\u001b[1;33m,\u001b[0m \u001b[0mp0\u001b[0m \u001b[1;33m=\u001b[0m \u001b[0mstats\u001b[0m\u001b[1;33m.\u001b[0m\u001b[0mttest_ind\u001b[0m\u001b[1;33m(\u001b[0m\u001b[0mx\u001b[0m\u001b[1;33m[\u001b[0m\u001b[1;33m:\u001b[0m\u001b[1;33m,\u001b[0m \u001b[1;33m:\u001b[0m\u001b[0mncases\u001b[0m\u001b[1;33m]\u001b[0m\u001b[1;33m,\u001b[0m \u001b[0mx\u001b[0m\u001b[1;33m[\u001b[0m\u001b[1;33m:\u001b[0m\u001b[1;33m,\u001b[0m \u001b[0mncases\u001b[0m\u001b[1;33m:\u001b[0m\u001b[1;33m]\u001b[0m\u001b[1;33m,\u001b[0m \u001b[0maxis\u001b[0m\u001b[1;33m=\u001b[0m\u001b[1;36m1\u001b[0m\u001b[1;33m)\u001b[0m\u001b[1;33m\u001b[0m\u001b[0m\n\u001b[0;32m     21\u001b[0m \u001b[0mranks\u001b[0m \u001b[1;33m=\u001b[0m \u001b[0mnp\u001b[0m\u001b[1;33m.\u001b[0m\u001b[0margsort\u001b[0m\u001b[1;33m(\u001b[0m\u001b[0mnp\u001b[0m\u001b[1;33m.\u001b[0m\u001b[0mabs\u001b[0m\u001b[1;33m(\u001b[0m\u001b[0mt\u001b[0m\u001b[1;33m)\u001b[0m\u001b[1;33m)\u001b[0m\u001b[1;33m[\u001b[0m\u001b[1;33m:\u001b[0m\u001b[1;33m:\u001b[0m\u001b[1;33m-\u001b[0m\u001b[1;36m1\u001b[0m\u001b[1;33m]\u001b[0m\u001b[1;33m\u001b[0m\u001b[0m\n",
      "\u001b[1;31mNameError\u001b[0m: name 'k' is not defined"
     ]
    }
   ],
   "source": [
    "nperms = 10000\n",
    "\n",
    "counts = np.zeros((nperms, k))\n",
    "t, p0 = stats.ttest_ind(x[:, :ncases], x[:, ncases:], axis=1)\n",
    "ranks = np.argsort(np.abs(t))[::-1]\n",
    "for i in range(nperms):\n",
    "    u = np.zeros(k)\n",
    "    sidx = np.random.permutation(nsamples)\n",
    "    y = x[:, sidx]\n",
    "    tb, pb = stats.ttest_ind(y[:, :ncases], y[:, ncases:], axis=1)\n",
    "    u[k-1] = np.abs(tb[ranks[k-1]])\n",
    "    for j in range(k-2, -1, -1):\n",
    "        u[j] = max(u[j+1], np.abs(tb[ranks[j]]))\n",
    "    counts[i] = (u >= np.abs(t[ranks]))\n",
    "\n",
    "p2 = np.sum(counts, axis=0)/nperms\n",
    "for i in range(1, k):\n",
    "    p2[i] = max(p2[i],p2[i-1])\n",
    "idx = p2 < 0.05\n",
    "\n",
    "print ('Minimum p-value', p2.min(), '# significant', idx.sum())"
   ]
  },
  {
   "cell_type": "code",
   "execution_count": 181,
   "metadata": {},
   "outputs": [
    {
     "name": "stdout",
     "output_type": "stream",
     "text": [
      "Minimum p-value 0.0 # significant 100\n"
     ]
    }
   ],
   "source": [
    "nperms = 100\n",
    "\n",
    "counts = np.zeros((nperms, k))\n",
    "t, p0 = stats.ttest_ind(x[:, :ncases], x[:, ncases:], axis=1)\n",
    "ranks = np.argsort(np.abs(t))[::-1]\n",
    "for i in range(nperms):\n",
    "    u = np.zeros(k)\n",
    "    sidx = np.random.permutation(nsamples)\n",
    "    y = x[:, sidx]\n",
    "    tb, pb = stats.ttest_ind(y[:, :ncases], y[:, ncases:], axis=1)\n",
    "    u[k-1] = np.abs(tb[ranks[k-1]])\n",
    "    for j in range(k-2, -1, -1):\n",
    "        u[j] = max(u[j+1], np.abs(tb[ranks[j]]))\n",
    "    counts[i] = (u >= np.abs(t[ranks]))\n",
    "\n",
    "p2 = np.sum(counts, axis=0)/nperms\n",
    "for i in range(1, k):\n",
    "    p2[i] = max(p2[i],p2[i-1])\n",
    "idx = p2 < 0.01\n",
    "\n",
    "print ('Minimum p-value', p2.min(), '# significant', idx.sum())"
   ]
  },
  {
   "cell_type": "code",
   "execution_count": null,
   "metadata": {
    "collapsed": true
   },
   "outputs": [],
   "source": []
  },
  {
   "cell_type": "code",
   "execution_count": null,
   "metadata": {
    "collapsed": true
   },
   "outputs": [],
   "source": []
  },
  {
   "cell_type": "code",
   "execution_count": 135,
   "metadata": {
    "scrolled": true
   },
   "outputs": [
    {
     "name": "stdout",
     "output_type": "stream",
     "text": [
      "20000 20000 1.0\n",
      "[[ 3.  1.]\n",
      " [ 3.  1.]\n",
      " [ 1.  1.]\n",
      " ..., \n",
      " [ 2.  1.]\n",
      " [ 2.  1.]\n",
      " [ 1.  1.]] [0 0 0 ..., 0 1 0]\n",
      "40000 20000 0.5\n",
      "[[  4.      1.   ]\n",
      " [ 51.      1.   ]\n",
      " [ 39.984   1.   ]\n",
      " ..., \n",
      " [ 30.873   1.   ]\n",
      " [ 10.      1.   ]\n",
      " [  2.      1.   ]] [0 1 0 ..., 0 0 0]\n",
      "60000 20000 0.3333333333333333\n",
      "[[  4.   1.]\n",
      " [  3.   1.]\n",
      " [  6.   1.]\n",
      " ..., \n",
      " [  3.   1.]\n",
      " [  1.   1.]\n",
      " [ 10.   1.]] [0 0 0 ..., 0 0 0]\n",
      "80000 20000 0.25\n",
      "[[ 4.     1.   ]\n",
      " [ 6.324  1.   ]\n",
      " [ 4.     1.   ]\n",
      " ..., \n",
      " [ 2.     1.   ]\n",
      " [ 4.     1.   ]\n",
      " [ 4.     1.   ]] [1 0 0 ..., 0 0 0]\n",
      "100000 20000 0.2\n",
      "[[  5.      1.   ]\n",
      " [  6.      1.   ]\n",
      " [ 24.961   1.   ]\n",
      " ..., \n",
      " [  4.      1.   ]\n",
      " [  1.      1.   ]\n",
      " [  1.      1.   ]] [1 0 0 ..., 0 0 0]\n",
      "120000 20000 0.16666666666666666\n",
      "[[  9.   1.]\n",
      " [  9.   1.]\n",
      " [  2.   1.]\n",
      " ..., \n",
      " [  1.   1.]\n",
      " [ 13.   1.]\n",
      " [  5.   1.]] [0 0 0 ..., 0 0 0]\n",
      "140000 20000 0.14285714285714285\n",
      "[[   4.      1.  ]\n",
      " [ 118.      1.  ]\n",
      " [   8.22    1.  ]\n",
      " ..., \n",
      " [   4.      1.  ]\n",
      " [   9.      1.  ]\n",
      " [   1.      1.  ]] [0 0 1 ..., 0 0 0]\n",
      "160000 20000 0.125\n",
      "[[ 25.   1.]\n",
      " [  1.   1.]\n",
      " [  1.   1.]\n",
      " ..., \n",
      " [  1.   1.]\n",
      " [  3.   1.]\n",
      " [ 22.   1.]] [1 0 0 ..., 0 0 0]\n",
      "180000 20000 0.1111111111111111\n",
      "[[  6.     1.  ]\n",
      " [  2.     1.  ]\n",
      " [  2.     1.  ]\n",
      " ..., \n",
      " [  2.     1.  ]\n",
      " [  3.     1.  ]\n",
      " [ 20.72   1.  ]] [0 0 0 ..., 0 0 0]\n",
      "200000 20000 0.1\n",
      "[[ 13.   1.]\n",
      " [  1.   1.]\n",
      " [  1.   1.]\n",
      " ..., \n",
      " [ 34.   1.]\n",
      " [  2.   1.]\n",
      " [  4.   1.]] [0 0 0 ..., 1 0 0]\n"
     ]
    },
    {
     "data": {
      "text/plain": [
       "<matplotlib.figure.Figure at 0x255989c90f0>"
      ]
     },
     "metadata": {},
     "output_type": "display_data"
    },
    {
     "data": {
      "image/png": "[encoded data removed]",
      "text/plain": [
       "<matplotlib.figure.Figure at 0x255aebc2860>"
      ]
     },
     "metadata": {},
     "output_type": "display_data"
    },
    {
     "data": {
      "text/plain": [
       "0.88649999999999995"
      ]
     },
     "execution_count": 135,
     "metadata": {},
     "output_type": "execute_result"
    }
   ],
   "source": [
    "#https://stats.stackexchange.com/questions/183230/bootstrapping-confidence-interval-from-a-regression-prediction\n",
    "#Regenschein (augmented code for Bayes)\n",
    "\n",
    "from sklearn.naive_bayes import GaussianNB\n",
    "\n",
    "x = sales\n",
    "y = np.array(onpromotion).astype(int)\n",
    "\n",
    "# Extend x data to contain another row vector of 1s\n",
    "X = np.vstack([x, np.ones(len(x))]).T\n",
    "\n",
    "count_elements = 0\n",
    "\n",
    "plt.figure(figsize=(12,8))\n",
    "for i in range(0, 10):\n",
    "    count_elements += len(y)\n",
    "    sample_index = np.random.choice(range(0, len(y)), len(y))\n",
    "    print( count_elements, len(y), len(y)/count_elements)\n",
    "    X_samples = X[sample_index]\n",
    "    y_samples = y[sample_index]    \n",
    "\n",
    "    gnb = GaussianNB()\n",
    "    print(X_samples, y_samples)\n",
    "    gnb.fit(X_samples, y_samples)\n",
    "    plt.plot(x, gnb.predict(X), color='grey', alpha=0.2, zorder=1)\n",
    "\n",
    "plt.scatter(x,y, marker='o', color='orange', zorder=4)\n",
    "\n",
    "gnb = GaussianNB()\n",
    "gnb.fit(X, y)\n",
    "plt.plot(x, gnb.predict(X), color='red', zorder=5)\n",
    "plt.show()\n",
    "\n",
    "gnb.score(X, y)"
   ]
  },
  {
   "cell_type": "markdown",
   "metadata": {},
   "source": [
    "###  Estimate population (with new sample) \n",
    "\n",
    "#### Estimation: bootstrap sample to estimate population mean and variance"
   ]
  },
  {
   "cell_type": "code",
   "execution_count": 12,
   "metadata": {
    "collapsed": true
   },
   "outputs": [],
   "source": [
    "import seaborn as sns\n",
    "\n",
    "def est_(sales, reps = 10000, percentile = [2.5, 97.5]):\n",
    "    n = len(sales)\n",
    "    xb = np.random.choice(sales, (n, reps))\n",
    "    mb = xb.mean(axis=0)\n",
    "    mb.sort()\n",
    "    #vb = xb.var(axis=0)  #bootstrap variance \n",
    "\n",
    "    upper, lower = np.percentile(mb, percentile)\n",
    "    #upper, lower\n",
    "\n",
    "    sns.kdeplot(mb)\n",
    "    for v in (lower, upper):\n",
    "        plt.axvline(v, color='red')\n",
    "    plt.show()\n",
    "    \n",
    "    return mb, upper, lower"
   ]
  },
  {
   "cell_type": "markdown",
   "metadata": {},
   "source": [
    "#### test output for all sales (population) and just the sales on promotion (subset of sales) "
   ]
  },
  {
   "cell_type": "code",
   "execution_count": 31,
   "metadata": {},
   "outputs": [
    {
     "data": {
      "image/png": "[encoded data removed]",
      "text/plain": [
       "<matplotlib.figure.Figure at 0x255aeacd9e8>"
      ]
     },
     "metadata": {},
     "output_type": "display_data"
    },
    {
     "data": {
      "image/png": "[encoded data removed]",
      "text/plain": [
       "<matplotlib.figure.Figure at 0x255aeb8a160>"
      ]
     },
     "metadata": {},
     "output_type": "display_data"
    },
    {
     "data": {
      "text/plain": [
       "(array([ 10.6345177 ,  10.75168781,  10.81271239, ...,  15.20653392,\n",
       "         15.56052114,  15.61024336]), 11.56519229351032, 13.952003207964598)"
      ]
     },
     "execution_count": 31,
     "metadata": {},
     "output_type": "execute_result"
    }
   ],
   "source": [
    "sales_promo = list(compress(sales, onpromotion))\n",
    "\n",
    "mb, upper, lower = est_(sales, reps = 10000, percentile = [2.5, 97.5])\n",
    "est_(sales_promo, reps = 10000, percentile = [2.5, 97.5])"
   ]
  },
  {
   "cell_type": "markdown",
   "metadata": {},
   "source": [
    "### item specific"
   ]
  },
  {
   "cell_type": "code",
   "execution_count": 37,
   "metadata": {},
   "outputs": [
    {
     "name": "stdout",
     "output_type": "stream",
     "text": [
      "[] [27.0, 19.0, 6.0, 84.0, 11.0, 11.0, 13.0, 34.0, 34.0, 28.0, 8.0, 11.0, 34.0, 9.0, 19.0, 19.0, 6.0, 19.0, 1.0, 30.0, 11.0]\n"
     ]
    },
    {
     "data": {
      "image/png": "[encoded data removed]",
      "text/plain": [
       "<matplotlib.figure.Figure at 0x255aebea080>"
      ]
     },
     "metadata": {},
     "output_type": "display_data"
    },
    {
     "data": {
      "text/plain": [
       "(array([ 10.19047619,  10.57142857,  10.61904762, ...,  36.85714286,\n",
       "         37.61904762,  41.14285714]), 14.189285714285713, 28.858333333333317)"
      ]
     },
     "execution_count": 37,
     "metadata": {},
     "output_type": "execute_result"
    }
   ],
   "source": [
    "item = Counter(item_nbr).most_common(2)[1][0]  #2nd most common item\n",
    "item_bool = [nr == item for nr in item_nbr]\n",
    "item_onpromo = [a and b for a, b in zip(item_bool, onpromotion)]\n",
    "\n",
    "print(list(compress(sales, item_onpromo)),\n",
    "      list(compress(sales, item_bool)))\n",
    "\n",
    "est_(list(compress(sales, item_bool)), reps = 10000, percentile = [2.5, 97.5])\n"
   ]
  },
  {
   "cell_type": "code",
   "execution_count": 40,
   "metadata": {
    "collapsed": true
   },
   "outputs": [
    {
     "data": {
      "text/plain": [
       "[27.0,\n",
       " 19.0,\n",
       " 6.0,\n",
       " 84.0,\n",
       " 11.0,\n",
       " 11.0,\n",
       " 13.0,\n",
       " 34.0,\n",
       " 34.0,\n",
       " 28.0,\n",
       " 8.0,\n",
       " 11.0,\n",
       " 34.0,\n",
       " 9.0,\n",
       " 19.0,\n",
       " 19.0,\n",
       " 6.0,\n",
       " 19.0,\n",
       " 1.0,\n",
       " 30.0,\n",
       " 11.0]"
      ]
     },
     "execution_count": 40,
     "metadata": {},
     "output_type": "execute_result"
    }
   ],
   "source": [
    "list(compress(sales, item_bool))"
   ]
  },
  {
   "cell_type": "code",
   "execution_count": 39,
   "metadata": {},
   "outputs": [
    {
     "data": {
      "text/plain": [
       "[]"
      ]
     },
     "execution_count": 39,
     "metadata": {},
     "output_type": "execute_result"
    }
   ],
   "source": [
    "list(compress(sales, item_onpromo))"
   ]
  },
  {
   "cell_type": "code",
   "execution_count": 38,
   "metadata": {
    "collapsed": true
   },
   "outputs": [
    {
     "name": "stdout",
     "output_type": "stream",
     "text": [
      "[] [27.0, 19.0, 6.0, 84.0, 11.0, 11.0, 13.0, 34.0, 34.0, 28.0, 8.0, 11.0, 34.0, 9.0, 19.0, 19.0, 6.0, 19.0, 1.0, 30.0, 11.0]\n"
     ]
    },
    {
     "ename": "ValueError",
     "evalue": "a must be non-empty",
     "output_type": "error",
     "traceback": [
      "\u001b[1;31m---------------------------------------------------------------------------\u001b[0m",
      "\u001b[1;31mValueError\u001b[0m                                Traceback (most recent call last)",
      "\u001b[1;32m<ipython-input-38-f11d8373b51c>\u001b[0m in \u001b[0;36m<module>\u001b[1;34m()\u001b[0m\n\u001b[0;32m      6\u001b[0m       list(compress(sales, item_bool)))\n\u001b[0;32m      7\u001b[0m \u001b[1;33m\u001b[0m\u001b[0m\n\u001b[1;32m----> 8\u001b[1;33m \u001b[0mest_\u001b[0m\u001b[1;33m(\u001b[0m\u001b[0mlist\u001b[0m\u001b[1;33m(\u001b[0m\u001b[0mcompress\u001b[0m\u001b[1;33m(\u001b[0m\u001b[0msales\u001b[0m\u001b[1;33m,\u001b[0m \u001b[0mitem_onpromo\u001b[0m\u001b[1;33m)\u001b[0m\u001b[1;33m)\u001b[0m\u001b[1;33m,\u001b[0m \u001b[0mreps\u001b[0m \u001b[1;33m=\u001b[0m \u001b[1;36m10000\u001b[0m\u001b[1;33m,\u001b[0m \u001b[0mpercentile\u001b[0m \u001b[1;33m=\u001b[0m \u001b[1;33m[\u001b[0m\u001b[1;36m2.5\u001b[0m\u001b[1;33m,\u001b[0m \u001b[1;36m97.5\u001b[0m\u001b[1;33m]\u001b[0m\u001b[1;33m)\u001b[0m\u001b[1;33m\u001b[0m\u001b[0m\n\u001b[0m",
      "\u001b[1;32m<ipython-input-12-f45993409c6f>\u001b[0m in \u001b[0;36mest_\u001b[1;34m(sales, reps, percentile)\u001b[0m\n\u001b[0;32m      3\u001b[0m \u001b[1;32mdef\u001b[0m \u001b[0mest_\u001b[0m\u001b[1;33m(\u001b[0m\u001b[0msales\u001b[0m\u001b[1;33m,\u001b[0m \u001b[0mreps\u001b[0m \u001b[1;33m=\u001b[0m \u001b[1;36m10000\u001b[0m\u001b[1;33m,\u001b[0m \u001b[0mpercentile\u001b[0m \u001b[1;33m=\u001b[0m \u001b[1;33m[\u001b[0m\u001b[1;36m2.5\u001b[0m\u001b[1;33m,\u001b[0m \u001b[1;36m97.5\u001b[0m\u001b[1;33m]\u001b[0m\u001b[1;33m)\u001b[0m\u001b[1;33m:\u001b[0m\u001b[1;33m\u001b[0m\u001b[0m\n\u001b[0;32m      4\u001b[0m     \u001b[0mn\u001b[0m \u001b[1;33m=\u001b[0m \u001b[0mlen\u001b[0m\u001b[1;33m(\u001b[0m\u001b[0msales\u001b[0m\u001b[1;33m)\u001b[0m\u001b[1;33m\u001b[0m\u001b[0m\n\u001b[1;32m----> 5\u001b[1;33m     \u001b[0mxb\u001b[0m \u001b[1;33m=\u001b[0m \u001b[0mnp\u001b[0m\u001b[1;33m.\u001b[0m\u001b[0mrandom\u001b[0m\u001b[1;33m.\u001b[0m\u001b[0mchoice\u001b[0m\u001b[1;33m(\u001b[0m\u001b[0msales\u001b[0m\u001b[1;33m,\u001b[0m \u001b[1;33m(\u001b[0m\u001b[0mn\u001b[0m\u001b[1;33m,\u001b[0m \u001b[0mreps\u001b[0m\u001b[1;33m)\u001b[0m\u001b[1;33m)\u001b[0m\u001b[1;33m\u001b[0m\u001b[0m\n\u001b[0m\u001b[0;32m      6\u001b[0m     \u001b[0mmb\u001b[0m \u001b[1;33m=\u001b[0m \u001b[0mxb\u001b[0m\u001b[1;33m.\u001b[0m\u001b[0mmean\u001b[0m\u001b[1;33m(\u001b[0m\u001b[0maxis\u001b[0m\u001b[1;33m=\u001b[0m\u001b[1;36m0\u001b[0m\u001b[1;33m)\u001b[0m\u001b[1;33m\u001b[0m\u001b[0m\n\u001b[0;32m      7\u001b[0m     \u001b[0mmb\u001b[0m\u001b[1;33m.\u001b[0m\u001b[0msort\u001b[0m\u001b[1;33m(\u001b[0m\u001b[1;33m)\u001b[0m\u001b[1;33m\u001b[0m\u001b[0m\n",
      "\u001b[1;32mmtrand.pyx\u001b[0m in \u001b[0;36mmtrand.RandomState.choice\u001b[1;34m()\u001b[0m\n",
      "\u001b[1;31mValueError\u001b[0m: a must be non-empty"
     ]
    }
   ],
   "source": [
    "item = Counter(item_nbr).most_common(2)[1][0]  #2nd most common item\n",
    "item_bool = [nr == item for nr in item_nbr]\n",
    "item_onpromo = [a and b for a, b in zip(item_bool, onpromotion)]\n",
    "\n",
    "print(list(compress(sales, item_onpromo)),\n",
    "      list(compress(sales, item_bool)))\n",
    "\n",
    "est_(list(compress(sales, item_onpromo)), reps = 10000, percentile = [2.5, 97.5])"
   ]
  },
  {
   "cell_type": "markdown",
   "metadata": {},
   "source": [
    "### Bayes prior, posterior: as aggregate, by item "
   ]
  },
  {
   "cell_type": "code",
   "execution_count": null,
   "metadata": {
    "collapsed": true
   },
   "outputs": [],
   "source": [
    "#https://www.oreilly.com/learning/probabilistic-programming-from-scratch\n",
    "#Probabilistic programming from scratch\n",
    "\n",
    "import itertools\n",
    "\n",
    "def aggregate_prior_sampler(sales_a):\n",
    "    '''Yield random numbers in interval (0, 1).'''\n",
    "    while True:\n",
    "        yield np.random.choice(sales_a)\n",
    "\n",
    "def posterior_sampler(sales_b):\n",
    "    '''Yield random numbers in interval (0, 1).'''\n",
    "    while True:\n",
    "        yield np.random.choice(sales_b)\n",
    "        \n",
    "def take(n, iterable):\n",
    "    \"Return first n items of the iterable as a list.\"\n",
    "    return list(itertools.islice(iterable, n))      \n",
    "\n",
    "########\n",
    "\n",
    "def aggregate_prior(sales_a, plot=1):\n",
    "    prior_a_sampler = aggregate_prior_sampler(sales_a)\n",
    "    a_samples = take(10000, prior_a_sampler)\n",
    "    plot_(a_samples, plot)\n",
    "    return np.mean(a_samples)\n",
    "    \n",
    "def subsample_posterior(sales_b, plot=1):\n",
    "    posterior_a_sampler = posterior_sampler(sales_b)\n",
    "    b_samples = take(10000, posterior_a_sampler)\n",
    "    plot_(b_samples, plot)\n",
    "    return np.mean(b_samples)\n",
    "\n",
    "def plot_(samples, plot=1):\n",
    "    if plot == 1:\n",
    "        bins = [i/2.0 for i in range(50)]          # 50 bins between 0 and 0.25\n",
    "        plt.hist(samples, bins=bins, normed=True)  # normed=True gives a probability density function\n",
    "        plt.xlim(0, max(bins))\n",
    "        plt.show()\n",
    "\n",
    "from collections import defaultdict\n",
    "samples_d = defaultdict(list)\n",
    "def plot_prior_and_posterior(sales_a,sales_b, samples_d, plot=1):\n",
    "    if len(sales_a) > 0:\n",
    "        samples_d['prior'].append(aggregate_prior(sales_a, plot))\n",
    "    if len(sales_b) > 0: \n",
    "        samples_d['posterior'].append(subsample_posterior(sales_b, plot))\n",
    "    return samples_d"
   ]
  },
  {
   "cell_type": "code",
   "execution_count": null,
   "metadata": {
    "collapsed": true,
    "scrolled": false
   },
   "outputs": [],
   "source": [
    "sales_a = sales            #sales\n",
    "sales_b = sales_promo      #promo sales\n",
    "\n",
    "samples_d = defaultdict(list)\n",
    "plot_prior_and_posterior(sales_a,sales_b, samples_d, plot=1)"
   ]
  },
  {
   "cell_type": "markdown",
   "metadata": {},
   "source": [
    "### item specific"
   ]
  },
  {
   "cell_type": "code",
   "execution_count": null,
   "metadata": {
    "collapsed": true
   },
   "outputs": [],
   "source": [
    "sales_a = list(compress(sales, item_bool))    #item_sales\n",
    "sales_b = list(compress(sales, item_onpromo)) #item_promo\n",
    "\n",
    "samples_d = defaultdict(list)\n",
    "plot_prior_and_posterior(sales_a,sales_b, samples_d, plot=1)"
   ]
  },
  {
   "cell_type": "markdown",
   "metadata": {},
   "source": [
    "##### looks a bit spotty, lets look at a few item averages"
   ]
  },
  {
   "cell_type": "code",
   "execution_count": null,
   "metadata": {
    "collapsed": true
   },
   "outputs": [],
   "source": [
    "def get_count(item_nbr, percent=.05):\n",
    "    ITEMS = Counter(item_nbr)\n",
    "    get_count = round(len(ITEMS.most_common())*percent)\n",
    "    return ITEMS.most_common(get_count)\n",
    "\n",
    "item_counts = get_count(item_nbr)\n",
    "ct = 0\n",
    "samples_d = defaultdict(list)\n",
    "while ct<len(item_counts):\n",
    "    item_bool = [nr == item_counts[ct][0] for nr in item_nbr]\n",
    "    sales_a = list(compress(sales, item_bool))       #item_sales\n",
    "    sales_b = list(compress(sales, item_onpromo))    #item_promo\n",
    "    samples_d = plot_prior_and_posterior(sales_a,sales_b, samples_d, plot=0)\n",
    "    ct += 1"
   ]
  },
  {
   "cell_type": "code",
   "execution_count": null,
   "metadata": {
    "collapsed": true
   },
   "outputs": [],
   "source": [
    "plt.hist(samples_d['prior'], normed=True)\n",
    "plt.show()\n",
    "\n",
    "plt.hist(samples_d['posterior'], normed=True)\n",
    "plt.show()"
   ]
  },
  {
   "cell_type": "code",
   "execution_count": null,
   "metadata": {
    "collapsed": true
   },
   "outputs": [],
   "source": [
    "est_(samples_d['prior'], reps = 10000, percentile = [2.5, 97.5])\n",
    "est_(samples_d['posterior'], reps = 10000, percentile = [2.5, 97.5])"
   ]
  },
  {
   "cell_type": "markdown",
   "metadata": {},
   "source": [
    "### now iterate to find optima having averaged out your variation in your huge dataset and you have some guarantees 'roughly' how your estimates fare. \n",
    "### loosey-goosey? Rock on - copy paste (pass Go, collect $200).\n",
    "\n",
    "<img src=\"images/spintowin.jpg\" alt=\"bayes\" align=\"left\" style=\"width: 250px;\"/>\n"
   ]
  },
  {
   "cell_type": "markdown",
   "metadata": {},
   "source": [
    "## \"Randomness\"?  Bayes Bootstrapping? "
   ]
  },
  {
   "cell_type": "markdown",
   "metadata": {},
   "source": [
    "<img src=\"images/brodoyouevendavidwolpert.jpg\" alt=\"bayes\" style=\"width: 500px;\"/>\n",
    "\n",
    "### <center> David Wolpert </center>\n",
    "<center> (1701 – 1761) </center>\n",
    "\n",
    "## No Free Lunch  \n",
    "\n",
    "The amount of data you can estimate is MASSIVE. But this method's baggage is proportional to it's benefits.   \n",
    "\n",
    "**TLDR**; The more you itirate your model (bootstrap), the larger your error (epsilon) gets.   \n",
    "\n",
    "## \"Proportional\"?..\n",
    "\n",
    "<img src=\"images/mark.jpg\" alt=\"bayes\" style=\"width: 500px;\"/>"
   ]
  },
  {
   "cell_type": "markdown",
   "metadata": {
    "collapsed": true
   },
   "source": [
    "# Finding True Properties of Epsilon"
   ]
  },
  {
   "cell_type": "markdown",
   "metadata": {},
   "source": [
    "### Recap of Chains\n",
    "\n",
    "In this first paper, A. A. Markov defined the simple chain as “an infinite sequence\n",
    "x1, x2, . . . , xk, xk+1, . . . , of variables connected in such a way that xk+1 for any k is independent\n",
    "of x1, x2, . . . , xk−1, in case xk is known” [15]. Markov called the chain homogeneous if the\n",
    "conditional distributions of xk+1 given xk were independent of k. He also considered complex\n",
    "chains in which “every number is directly connected not with single but with several preceding\n",
    "numbers” [17].\n",
    "Most of Markov’s works were devoted to simple homogeneous chains. By determining the\n",
    "probability pα,β of the event xk+1 = β given that xk = α, he emphasized, that the probabilities\n",
    "p\n",
    "(k)\n",
    "α of the events xk = α are connected by the simple formula\n",
    "p\n",
    "(k+1)\n",
    "β =\n",
    "X\n",
    "α\n",
    "p\n",
    "(k)\n",
    "α pα,β. (1)\n",
    "He also produced the following equalities for the mathematical expectations ai = E(xi) and\n",
    "A\n",
    "(i)\n",
    "γ = E(xk+i\n",
    "|xk = γ):\n",
    "\n",
    "**simple chain**:  “an infinite sequence\n",
    "x1, x2, . . . , xk, xk+1, . . . , of variables connected in such a way that xk+1 for any k is independent\n",
    "of x1, x2, . . . , xk−1, in case xk is known\n",
    "\n",
    "**homogenous chain**: “conditional distributions of xk+1 given xk were independent of k. \n",
    "\n",
    "**considered complex chain**: “every number is directly connected not with single but with several preceding\n",
    "numbers”"
   ]
  },
  {
   "cell_type": "markdown",
   "metadata": {},
   "source": [
    "# Markov Steady State"
   ]
  },
  {
   "cell_type": "markdown",
   "metadata": {},
   "source": [
    "<img src=\"images/testyourbrain.jpg\" alt=\"bayes\" align=\"left\" style=\"width: 500px;\"/>"
   ]
  },
  {
   "cell_type": "markdown",
   "metadata": {},
   "source": [
    "### Transition Properties\n",
    "\n",
    "In this same 1906 paper, [15], Markov studied the correctness of the weak law of large\n",
    "numbers for homogeneous chains with positive transition probability matrices. From equality\n",
    "(2) he determined that ak+i\n",
    "is located between the smallest m(i) = minγ A\n",
    "(i)\n",
    "γ and the largest\n",
    "M(i) = maxγ A\n",
    "(i)\n",
    "γ values of A\n",
    "(i)\n",
    "γ . Further, these latter numbers are located between m(i−1) and\n",
    "M(i−1). Markov proved that if i increases, the difference ∆(i) = M(i) − m(i)\n",
    "tends to 0, so\n",
    "the mathematical expectations ak+i and A\n",
    "(i)\n",
    "γ have the same limit a. His elegant proof of this\n",
    "ergodic theorem, as we call it today, deserves to be presented here"
   ]
  },
  {
   "cell_type": "code",
   "execution_count": 28,
   "metadata": {
    "scrolled": true
   },
   "outputs": [
    {
     "data": {
      "image/png": "[encoded data removed]",
      "text/plain": [
       "<matplotlib.figure.Figure at 0x255ae7564a8>"
      ]
     },
     "metadata": {},
     "output_type": "display_data"
    }
   ],
   "source": [
    "#https://theclevermachine.wordpress.com/tag/time-homogeneous-markov-chain/\n",
    "\n",
    "from sympy import init_printing, Matrix, symbols, eye\n",
    "\n",
    "def plot_(n_u = 0):\n",
    "    A = Matrix([[.8, .15, .05],  [.4, .5,  .1], [.1, .3,  .6]])\n",
    "    x_vect = Matrix([0,0,1])\n",
    "    nWeeks = 15\n",
    "    \n",
    "    uu = list()\n",
    "    for wk in range(nWeeks):\n",
    "        #print((A ** wk) * x_vect)\n",
    "        u = (A ** wk) * x_vect\n",
    "        uu.append(u[n_u]) \n",
    "    return uu\n",
    "\n",
    "uu = list()\n",
    "for wk in range(nWeeks):\n",
    "    #print((A ** wk) * x_vect)\n",
    "    u = (A ** wk) * x_vect\n",
    "    uu.append(u[n_u]) \n",
    "uu\n",
    "\n",
    "for n_u in range(u.shape[0]):\n",
    "    #print(n_u)\n",
    "    plt.plot(plot_(n_u))\n",
    "\n",
    "plot_()    \n",
    "plt.show()"
   ]
  },
  {
   "cell_type": "markdown",
   "metadata": {},
   "source": [
    "\n",
    "\n",
    "\n",
    "<img src=\"images/redmirrorjurassicpark1.gif\" alt=\"bayes\" align=\"center\" style=\"width: 500px;\"/>\n",
    "\n"
   ]
  },
  {
   "cell_type": "code",
   "execution_count": null,
   "metadata": {
    "collapsed": true
   },
   "outputs": [],
   "source": []
  },
  {
   "cell_type": "code",
   "execution_count": null,
   "metadata": {
    "collapsed": true
   },
   "outputs": [],
   "source": []
  },
  {
   "cell_type": "code",
   "execution_count": null,
   "metadata": {
    "collapsed": true
   },
   "outputs": [],
   "source": []
  },
  {
   "cell_type": "code",
   "execution_count": null,
   "metadata": {
    "collapsed": true
   },
   "outputs": [],
   "source": []
  },
  {
   "cell_type": "code",
   "execution_count": null,
   "metadata": {
    "collapsed": true
   },
   "outputs": [],
   "source": []
  },
  {
   "cell_type": "code",
   "execution_count": null,
   "metadata": {
    "collapsed": true
   },
   "outputs": [],
   "source": []
  },
  {
   "cell_type": "code",
   "execution_count": null,
   "metadata": {
    "collapsed": true
   },
   "outputs": [],
   "source": []
  },
  {
   "cell_type": "code",
   "execution_count": null,
   "metadata": {
    "collapsed": true
   },
   "outputs": [],
   "source": [
    "#https://people.duke.edu/~ccc14/sta-663/MCMC.html\n",
    "\n",
    "\n"
   ]
  },
  {
   "cell_type": "code",
   "execution_count": null,
   "metadata": {
    "collapsed": true
   },
   "outputs": [],
   "source": []
  },
  {
   "cell_type": "code",
   "execution_count": null,
   "metadata": {
    "collapsed": true
   },
   "outputs": [],
   "source": []
  },
  {
   "cell_type": "markdown",
   "metadata": {},
   "source": [
    "# Conclusion\n",
    "\n",
    "<img src=\"images/range.jpg\" alt=\"range\" style=\"width: 350px;\"/>\n",
    "\n",
    "Digitization has raised the bar. Customers expect businesses to deliver better products faster and at lower costs. In Amazon's [2017 Letter to Shareholders](http://phx.corporate-ir.net/phoenix.zhtml?c=97664&p=irol-reportsannual), Jeff Bezos explains that the company prioritizes reversible decision aiming to avoid 'one-size-fits-all thinking'. A year earlier, he proposed that 'most decisions should probably be made with somewhere around 70% of the information you wish you had'. \n",
    "\n",
    "Forecasts often fail in practice, and sometimes they fail more than we might expect. By learning about the past, we can imagine the future and make better decisions. Techniques outlined in this guide show a way to make dicisions efficiently under constraints. "
   ]
  },
  {
   "cell_type": "markdown",
   "metadata": {},
   "source": [
    "# Additional Reading \n",
    "\n",
    "### New to Python? Start Here - Libraries & Documentation\n",
    "<a id='Start_Here'></a>\n",
    "\n",
    "Cheat-sheets   \n",
    "[DataCamp](https://www.datacamp.com/community/data-science-cheatsheets?posts_selected_tab=must_read&tag=python)\n",
    "\n",
    "Python  \n",
    "[Tutorial](https://docs.python.org/3/tutorial/)\n",
    "\n",
    "NumPy   \n",
    "[Quickstart](https://docs.scipy.org/doc/numpy-dev/user/quickstart.html)  \n",
    "[Manual](https://docs.scipy.org/doc/numpy-dev/contents.html)  \n",
    "[Reference](https://docs.scipy.org/doc/numpy/reference/index.html#reference)  \n",
    "[devdocs](http://scipy.github.io/devdocs/)\n",
    "\n",
    "Pandas  \n",
    "[Tutorials](https://pandas.pydata.org/pandas-docs/stable/tutorials.html)\n",
    "\n",
    "Matplotlib  \n",
    "[Writing mathematical expressions](https://matplotlib.org/users/mathtext.html)\n",
    "\n",
    "SKL  \n",
    "[Tutorials](http://scikit-learn.org/stable/tutorial/index.html)\n",
    "\n",
    "#### Notebooks\n",
    "\n",
    "[\"A Crash Course in Python for Scientists\", Rick Muller](http://nbviewer.jupyter.org/gist/rpmuller/5920182)\n",
    "\n",
    "[\"Exploratory computing with Python\", Mark Bakker](http://mbakker7.github.io/exploratory_computing_with_python/)\n",
    "\n",
    "[\"Python for Data Analysis\", Wes McKinney](https://github.com/wesm/pydata-book)\n",
    "\n",
    "[\"Python Data Science Handbook\", Python Data Science Handbook](https://jakevdp.github.io/PythonDataScienceHandbook/)\n",
    "\n",
    "[\"Learn Python the Hard Way\"](https://learnpythonthehardway.org/book/)\n",
    "\n",
    "[\"Python Machine Learning (1st edition)\"](https://github.com/rasbt/python-machine-learning-book)\n",
    "\n",
    "[\"Numerical Python: A Practical Techniques Approach for Industry\", J Robert Johansson](http://jrjohansson.github.io/numericalpython.html)\n",
    "\n",
    "#### Advanced Pythonists and Pythonistas  \n",
    "\n",
    "[Best Tricks of Python](https://tech.io/playgrounds/2302/best-tricks-of-python)   "
   ]
  },
  {
   "cell_type": "code",
   "execution_count": null,
   "metadata": {
    "collapsed": true,
    "scrolled": true
   },
   "outputs": [],
   "source": [
    "import this"
   ]
  },
  {
   "cell_type": "markdown",
   "metadata": {},
   "source": [
    "## Theorem links & text\n",
    "   \n",
    "What is a Markov chain? - YouTube   \n",
    "https://www.youtube.com/watch?v=o-jdJxXL_W4&index=1&list=PL1NW4EBqwbwa9tZW-Y_y7DqALp1BRlX-m   \n",
    "\n",
    "Foundations of Data Science  \n",
    "https://www.cs.cornell.edu/jeh/book2016June9.pdf   "
   ]
  },
  {
   "cell_type": "code",
   "execution_count": null,
   "metadata": {
    "collapsed": true
   },
   "outputs": [],
   "source": []
  },
  {
   "cell_type": "code",
   "execution_count": null,
   "metadata": {
    "collapsed": true
   },
   "outputs": [],
   "source": []
  },
  {
   "cell_type": "code",
   "execution_count": null,
   "metadata": {
    "collapsed": true
   },
   "outputs": [],
   "source": []
  },
  {
   "cell_type": "markdown",
   "metadata": {},
   "source": [
    "<img src=\"images/looseygoosey.gif\" alt=\"bayes\" align=\"center\" style=\"width: 400px;\"/>"
   ]
  },
  {
   "cell_type": "code",
   "execution_count": 192,
   "metadata": {},
   "outputs": [
    {
     "data": {
      "text/html": [
       "<img src=\"images/doyoufeelthat.gif\">"
      ],
      "text/plain": [
       "<IPython.core.display.HTML object>"
      ]
     },
     "execution_count": 192,
     "metadata": {},
     "output_type": "execute_result"
    }
   ],
   "source": [
    "from IPython.display import HTML\n",
    "def display_gif(fn):\n",
    "    from IPython import display\n",
    "    return display.HTML('<img src=\"{}\">'.format(fn))\n",
    "fn = \"images/doyoufeelthat.gif\"\n",
    "display_gif(fn)"
   ]
  }
 ],
 "metadata": {
  "kernelspec": {
   "display_name": "Python 3",
   "language": "python",
   "name": "python3"
  },
  "language_info": {
   "codemirror_mode": {
    "name": "ipython",
    "version": 3
   },
   "file_extension": ".py",
   "mimetype": "text/x-python",
   "name": "python",
   "nbconvert_exporter": "python",
   "pygments_lexer": "ipython3",
   "version": "3.6.1"
  }
 },
 "nbformat": 4,
 "nbformat_minor": 2
}
